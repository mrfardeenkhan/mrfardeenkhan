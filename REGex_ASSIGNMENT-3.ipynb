{
 "cells": [
  {
   "cell_type": "markdown",
   "id": "818cf1a6",
   "metadata": {},
   "source": [
    "## Task 3\n",
    "\n",
    "Registration / referral ID - SIRSS1158\n",
    "\n",
    "Full Name: FARDEEN KHAN"
   ]
  },
  {
   "cell_type": "markdown",
   "id": "19c82a66",
   "metadata": {},
   "source": [
    "### Q1. Write a function to return nth term of Fibonacci sequence."
   ]
  },
  {
   "cell_type": "code",
   "execution_count": 1,
   "id": "0457a4a0",
   "metadata": {},
   "outputs": [
    {
     "name": "stdout",
     "output_type": "stream",
     "text": [
      "Enter a Number : 4\n",
      "3\n"
     ]
    }
   ],
   "source": [
    "def fibo(n) :\n",
    "    if(n < 0) :\n",
    "        return(\"incorrect input\")\n",
    "    elif(n == 0):\n",
    "        return 0\n",
    "    elif(n == 2 or n == 1):\n",
    "        return 1\n",
    "    else : \n",
    "        return (fibo(n - 1) + fibo(n - 2))\n",
    "\n",
    "x = int(input(\"Enter a Number : \"))\n",
    "print(fibo(x))"
   ]
  },
  {
   "cell_type": "markdown",
   "id": "a01e9623",
   "metadata": {},
   "source": [
    "### Q2. Write a function to find out GCD of two numbers using EUCLID'S algorithm."
   ]
  },
  {
   "cell_type": "code",
   "execution_count": 2,
   "id": "109ef3d4",
   "metadata": {},
   "outputs": [
    {
     "name": "stdout",
     "output_type": "stream",
     "text": [
      "Enter first number: 5\n",
      "Enter second number: 15\n",
      "GCD:  5\n"
     ]
    }
   ],
   "source": [
    "def GCD(a, b):\n",
    "    if b == 0:\n",
    "        return a\n",
    "    else:\n",
    "        return GCD(b, a % b)\n",
    "n1 = int(input(\"Enter first number: \"))\n",
    "n2 = int(input(\"Enter second number: \"))\n",
    "print(\"GCD: \", GCD(n1, n2))"
   ]
  },
  {
   "cell_type": "markdown",
   "id": "8a5eaf0d",
   "metadata": {},
   "source": [
    "### Q3. Write a function to find LCM of two number in most optimizers way."
   ]
  },
  {
   "cell_type": "code",
   "execution_count": 3,
   "id": "ce490d5b",
   "metadata": {},
   "outputs": [
    {
     "name": "stdout",
     "output_type": "stream",
     "text": [
      "Enter first number: 56\n",
      "Enter second number: 22\n",
      "Lcm of  56 and 22  : 616\n"
     ]
    }
   ],
   "source": [
    "def lcm(n1, n2):\n",
    "    return (n1//GCD(n1, n2)) * n2\n",
    "n1 = int(input(\"Enter first number: \"))\n",
    "n2 = int(input(\"Enter second number: \"))\n",
    "print('Lcm of ', n1, \"and\", n2, ' :', lcm(n1, n2))"
   ]
  }
 ],
 "metadata": {
  "kernelspec": {
   "display_name": "Python 3",
   "language": "python",
   "name": "python3"
  },
  "language_info": {
   "codemirror_mode": {
    "name": "ipython",
    "version": 3
   },
   "file_extension": ".py",
   "mimetype": "text/x-python",
   "name": "python",
   "nbconvert_exporter": "python",
   "pygments_lexer": "ipython3",
   "version": "3.8.8"
  }
 },
 "nbformat": 4,
 "nbformat_minor": 5
}
