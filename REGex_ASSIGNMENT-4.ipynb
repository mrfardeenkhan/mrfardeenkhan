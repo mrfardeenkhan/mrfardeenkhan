{
 "cells": [
  {
   "cell_type": "markdown",
   "metadata": {},
   "source": [
    "\n",
    "\n",
    "\n",
    "# ASSIGNMENT- 4: EXPLORATORY DATA ANALYSIS (COVID 19 INDIA DATASET)\n",
    "# Name - FARDEEN KHAN\n",
    "# Registration id - SIRSS1158"
   ]
  },
  {
   "cell_type": "code",
   "execution_count": 22,
   "metadata": {},
   "outputs": [],
   "source": [
    "# Import Libraries\n",
    "\n",
    "import numpy as np\n",
    "import pandas as pd\n",
    "import matplotlib.pyplot as plt\n",
    "import seaborn as sns\n",
    "import plotly.express as px"
   ]
  },
  {
   "cell_type": "code",
   "execution_count": 23,
   "metadata": {},
   "outputs": [],
   "source": [
    "# loading dataset\n",
    "\n",
    "df=pd.read_csv('Covid-19 India Status.csv')"
   ]
  },
  {
   "cell_type": "code",
   "execution_count": 24,
   "metadata": {
    "scrolled": true
   },
   "outputs": [
    {
     "data": {
      "text/html": [
       "<div>\n",
       "<style scoped>\n",
       "    .dataframe tbody tr th:only-of-type {\n",
       "        vertical-align: middle;\n",
       "    }\n",
       "\n",
       "    .dataframe tbody tr th {\n",
       "        vertical-align: top;\n",
       "    }\n",
       "\n",
       "    .dataframe thead th {\n",
       "        text-align: right;\n",
       "    }\n",
       "</style>\n",
       "<table border=\"1\" class=\"dataframe\">\n",
       "  <thead>\n",
       "    <tr style=\"text-align: right;\">\n",
       "      <th></th>\n",
       "      <th>State/UTs</th>\n",
       "      <th>Total Cases</th>\n",
       "      <th>Active</th>\n",
       "      <th>Discharged</th>\n",
       "      <th>Deaths</th>\n",
       "      <th>Active Ratio (%)</th>\n",
       "      <th>Discharge Ratio (%)</th>\n",
       "      <th>Death Ratio (%)</th>\n",
       "    </tr>\n",
       "  </thead>\n",
       "  <tbody>\n",
       "    <tr>\n",
       "      <th>0</th>\n",
       "      <td>Andaman and Nicobar</td>\n",
       "      <td>7560</td>\n",
       "      <td>10</td>\n",
       "      <td>7421</td>\n",
       "      <td>129</td>\n",
       "      <td>0.13</td>\n",
       "      <td>98.16</td>\n",
       "      <td>1.71</td>\n",
       "    </tr>\n",
       "    <tr>\n",
       "      <th>1</th>\n",
       "      <td>Andhra Pradesh</td>\n",
       "      <td>2004590</td>\n",
       "      <td>13677</td>\n",
       "      <td>1977163</td>\n",
       "      <td>13750</td>\n",
       "      <td>0.68</td>\n",
       "      <td>98.63</td>\n",
       "      <td>0.69</td>\n",
       "    </tr>\n",
       "    <tr>\n",
       "      <th>2</th>\n",
       "      <td>Arunachal Pradesh</td>\n",
       "      <td>52409</td>\n",
       "      <td>1127</td>\n",
       "      <td>51023</td>\n",
       "      <td>259</td>\n",
       "      <td>2.15</td>\n",
       "      <td>97.36</td>\n",
       "      <td>0.49</td>\n",
       "    </tr>\n",
       "    <tr>\n",
       "      <th>3</th>\n",
       "      <td>Assam</td>\n",
       "      <td>585689</td>\n",
       "      <td>8005</td>\n",
       "      <td>572084</td>\n",
       "      <td>5600</td>\n",
       "      <td>1.37</td>\n",
       "      <td>97.68</td>\n",
       "      <td>0.96</td>\n",
       "    </tr>\n",
       "    <tr>\n",
       "      <th>4</th>\n",
       "      <td>Bihar</td>\n",
       "      <td>725605</td>\n",
       "      <td>102</td>\n",
       "      <td>715853</td>\n",
       "      <td>9650</td>\n",
       "      <td>0.01</td>\n",
       "      <td>98.66</td>\n",
       "      <td>1.33</td>\n",
       "    </tr>\n",
       "    <tr>\n",
       "      <th>5</th>\n",
       "      <td>Chandigarh</td>\n",
       "      <td>65069</td>\n",
       "      <td>35</td>\n",
       "      <td>64222</td>\n",
       "      <td>812</td>\n",
       "      <td>0.05</td>\n",
       "      <td>98.70</td>\n",
       "      <td>1.25</td>\n",
       "    </tr>\n",
       "    <tr>\n",
       "      <th>6</th>\n",
       "      <td>Chhattisgarh</td>\n",
       "      <td>1004230</td>\n",
       "      <td>653</td>\n",
       "      <td>990022</td>\n",
       "      <td>13555</td>\n",
       "      <td>0.07</td>\n",
       "      <td>98.59</td>\n",
       "      <td>1.35</td>\n",
       "    </tr>\n",
       "    <tr>\n",
       "      <th>7</th>\n",
       "      <td>Dadra and Nagar Haveli and Daman and Diu</td>\n",
       "      <td>10659</td>\n",
       "      <td>4</td>\n",
       "      <td>10651</td>\n",
       "      <td>4</td>\n",
       "      <td>0.04</td>\n",
       "      <td>99.92</td>\n",
       "      <td>0.04</td>\n",
       "    </tr>\n",
       "    <tr>\n",
       "      <th>8</th>\n",
       "      <td>Delhi</td>\n",
       "      <td>1437485</td>\n",
       "      <td>411</td>\n",
       "      <td>1411995</td>\n",
       "      <td>25079</td>\n",
       "      <td>0.03</td>\n",
       "      <td>98.23</td>\n",
       "      <td>1.74</td>\n",
       "    </tr>\n",
       "    <tr>\n",
       "      <th>9</th>\n",
       "      <td>Goa</td>\n",
       "      <td>173357</td>\n",
       "      <td>932</td>\n",
       "      <td>169239</td>\n",
       "      <td>3186</td>\n",
       "      <td>0.54</td>\n",
       "      <td>97.62</td>\n",
       "      <td>1.84</td>\n",
       "    </tr>\n",
       "  </tbody>\n",
       "</table>\n",
       "</div>"
      ],
      "text/plain": [
       "                                  State/UTs  Total Cases  Active  Discharged  \\\n",
       "0                       Andaman and Nicobar         7560      10        7421   \n",
       "1                            Andhra Pradesh      2004590   13677     1977163   \n",
       "2                         Arunachal Pradesh        52409    1127       51023   \n",
       "3                                     Assam       585689    8005      572084   \n",
       "4                                     Bihar       725605     102      715853   \n",
       "5                                Chandigarh        65069      35       64222   \n",
       "6                              Chhattisgarh      1004230     653      990022   \n",
       "7  Dadra and Nagar Haveli and Daman and Diu        10659       4       10651   \n",
       "8                                     Delhi      1437485     411     1411995   \n",
       "9                                       Goa       173357     932      169239   \n",
       "\n",
       "   Deaths  Active Ratio (%)  Discharge Ratio (%)  Death Ratio (%)  \n",
       "0     129              0.13                98.16             1.71  \n",
       "1   13750              0.68                98.63             0.69  \n",
       "2     259              2.15                97.36             0.49  \n",
       "3    5600              1.37                97.68             0.96  \n",
       "4    9650              0.01                98.66             1.33  \n",
       "5     812              0.05                98.70             1.25  \n",
       "6   13555              0.07                98.59             1.35  \n",
       "7       4              0.04                99.92             0.04  \n",
       "8   25079              0.03                98.23             1.74  \n",
       "9    3186              0.54                97.62             1.84  "
      ]
     },
     "execution_count": 24,
     "metadata": {},
     "output_type": "execute_result"
    }
   ],
   "source": [
    "# top 10 entries of dataset\n",
    "\n",
    "df.head(10)"
   ]
  },
  {
   "cell_type": "code",
   "execution_count": 25,
   "metadata": {},
   "outputs": [
    {
     "data": {
      "text/plain": [
       "(36, 8)"
      ]
     },
     "execution_count": 25,
     "metadata": {},
     "output_type": "execute_result"
    }
   ],
   "source": [
    "df.shape"
   ]
  },
  {
   "cell_type": "code",
   "execution_count": 26,
   "metadata": {},
   "outputs": [
    {
     "data": {
      "text/plain": [
       "0"
      ]
     },
     "execution_count": 26,
     "metadata": {},
     "output_type": "execute_result"
    }
   ],
   "source": [
    "# checking for duplicates\n",
    "\n",
    "df.duplicated().sum()"
   ]
  },
  {
   "cell_type": "code",
   "execution_count": 27,
   "metadata": {},
   "outputs": [
    {
     "data": {
      "text/plain": [
       "Index(['State/UTs', 'Total Cases', 'Active', 'Discharged', 'Deaths',\n",
       "       'Active Ratio (%)', 'Discharge Ratio (%)', 'Death Ratio (%)'],\n",
       "      dtype='object')"
      ]
     },
     "execution_count": 27,
     "metadata": {},
     "output_type": "execute_result"
    }
   ],
   "source": [
    "df.columns"
   ]
  },
  {
   "cell_type": "code",
   "execution_count": 28,
   "metadata": {},
   "outputs": [
    {
     "data": {
      "text/plain": [
       "State/UTs              0\n",
       "Total Cases            0\n",
       "Active                 0\n",
       "Discharged             0\n",
       "Deaths                 0\n",
       "Active Ratio (%)       0\n",
       "Discharge Ratio (%)    0\n",
       "Death Ratio (%)        0\n",
       "dtype: int64"
      ]
     },
     "execution_count": 28,
     "metadata": {},
     "output_type": "execute_result"
    }
   ],
   "source": [
    "# checking for null values\n",
    "\n",
    "df.isnull().sum()"
   ]
  },
  {
   "cell_type": "code",
   "execution_count": 29,
   "metadata": {},
   "outputs": [
    {
     "name": "stdout",
     "output_type": "stream",
     "text": [
      "<class 'pandas.core.frame.DataFrame'>\n",
      "RangeIndex: 36 entries, 0 to 35\n",
      "Data columns (total 8 columns):\n",
      " #   Column               Non-Null Count  Dtype  \n",
      "---  ------               --------------  -----  \n",
      " 0   State/UTs            36 non-null     object \n",
      " 1   Total Cases          36 non-null     int64  \n",
      " 2   Active               36 non-null     int64  \n",
      " 3   Discharged           36 non-null     int64  \n",
      " 4   Deaths               36 non-null     int64  \n",
      " 5   Active Ratio (%)     36 non-null     float64\n",
      " 6   Discharge Ratio (%)  36 non-null     float64\n",
      " 7   Death Ratio (%)      36 non-null     float64\n",
      "dtypes: float64(3), int64(4), object(1)\n",
      "memory usage: 2.4+ KB\n"
     ]
    }
   ],
   "source": [
    "df.info()"
   ]
  },
  {
   "cell_type": "code",
   "execution_count": 30,
   "metadata": {},
   "outputs": [
    {
     "data": {
      "text/html": [
       "<div>\n",
       "<style scoped>\n",
       "    .dataframe tbody tr th:only-of-type {\n",
       "        vertical-align: middle;\n",
       "    }\n",
       "\n",
       "    .dataframe tbody tr th {\n",
       "        vertical-align: top;\n",
       "    }\n",
       "\n",
       "    .dataframe thead th {\n",
       "        text-align: right;\n",
       "    }\n",
       "</style>\n",
       "<table border=\"1\" class=\"dataframe\">\n",
       "  <thead>\n",
       "    <tr style=\"text-align: right;\">\n",
       "      <th></th>\n",
       "      <th>Total Cases</th>\n",
       "      <th>Active</th>\n",
       "      <th>Discharged</th>\n",
       "      <th>Deaths</th>\n",
       "      <th>Active Ratio (%)</th>\n",
       "      <th>Discharge Ratio (%)</th>\n",
       "      <th>Death Ratio (%)</th>\n",
       "    </tr>\n",
       "  </thead>\n",
       "  <tbody>\n",
       "    <tr>\n",
       "      <th>count</th>\n",
       "      <td>3.600000e+01</td>\n",
       "      <td>36.000000</td>\n",
       "      <td>3.600000e+01</td>\n",
       "      <td>36.000000</td>\n",
       "      <td>36.000000</td>\n",
       "      <td>36.000000</td>\n",
       "      <td>36.000000</td>\n",
       "    </tr>\n",
       "    <tr>\n",
       "      <th>mean</th>\n",
       "      <td>9.031213e+05</td>\n",
       "      <td>8953.527778</td>\n",
       "      <td>8.820634e+05</td>\n",
       "      <td>12104.388889</td>\n",
       "      <td>1.263611</td>\n",
       "      <td>97.471667</td>\n",
       "      <td>1.265278</td>\n",
       "    </tr>\n",
       "    <tr>\n",
       "      <th>std</th>\n",
       "      <td>1.316180e+06</td>\n",
       "      <td>27649.920018</td>\n",
       "      <td>1.276942e+06</td>\n",
       "      <td>23385.359462</td>\n",
       "      <td>2.313456</td>\n",
       "      <td>2.239131</td>\n",
       "      <td>0.563770</td>\n",
       "    </tr>\n",
       "    <tr>\n",
       "      <th>min</th>\n",
       "      <td>7.560000e+03</td>\n",
       "      <td>4.000000</td>\n",
       "      <td>7.421000e+03</td>\n",
       "      <td>4.000000</td>\n",
       "      <td>0.010000</td>\n",
       "      <td>87.300000</td>\n",
       "      <td>0.040000</td>\n",
       "    </tr>\n",
       "    <tr>\n",
       "      <th>25%</th>\n",
       "      <td>7.194125e+04</td>\n",
       "      <td>158.250000</td>\n",
       "      <td>6.865075e+04</td>\n",
       "      <td>806.750000</td>\n",
       "      <td>0.065000</td>\n",
       "      <td>97.357500</td>\n",
       "      <td>0.955000</td>\n",
       "    </tr>\n",
       "    <tr>\n",
       "      <th>50%</th>\n",
       "      <td>4.667220e+05</td>\n",
       "      <td>910.000000</td>\n",
       "      <td>4.572770e+05</td>\n",
       "      <td>5366.000000</td>\n",
       "      <td>0.570000</td>\n",
       "      <td>98.185000</td>\n",
       "      <td>1.295000</td>\n",
       "    </tr>\n",
       "    <tr>\n",
       "      <th>75%</th>\n",
       "      <td>1.002800e+06</td>\n",
       "      <td>6373.000000</td>\n",
       "      <td>9.880322e+05</td>\n",
       "      <td>13603.750000</td>\n",
       "      <td>1.065000</td>\n",
       "      <td>98.652500</td>\n",
       "      <td>1.607500</td>\n",
       "    </tr>\n",
       "    <tr>\n",
       "      <th>max</th>\n",
       "      <td>6.432649e+06</td>\n",
       "      <td>159870.000000</td>\n",
       "      <td>6.243034e+06</td>\n",
       "      <td>136355.000000</td>\n",
       "      <td>12.330000</td>\n",
       "      <td>99.920000</td>\n",
       "      <td>2.720000</td>\n",
       "    </tr>\n",
       "  </tbody>\n",
       "</table>\n",
       "</div>"
      ],
      "text/plain": [
       "        Total Cases         Active    Discharged         Deaths  \\\n",
       "count  3.600000e+01      36.000000  3.600000e+01      36.000000   \n",
       "mean   9.031213e+05    8953.527778  8.820634e+05   12104.388889   \n",
       "std    1.316180e+06   27649.920018  1.276942e+06   23385.359462   \n",
       "min    7.560000e+03       4.000000  7.421000e+03       4.000000   \n",
       "25%    7.194125e+04     158.250000  6.865075e+04     806.750000   \n",
       "50%    4.667220e+05     910.000000  4.572770e+05    5366.000000   \n",
       "75%    1.002800e+06    6373.000000  9.880322e+05   13603.750000   \n",
       "max    6.432649e+06  159870.000000  6.243034e+06  136355.000000   \n",
       "\n",
       "       Active Ratio (%)  Discharge Ratio (%)  Death Ratio (%)  \n",
       "count         36.000000            36.000000        36.000000  \n",
       "mean           1.263611            97.471667         1.265278  \n",
       "std            2.313456             2.239131         0.563770  \n",
       "min            0.010000            87.300000         0.040000  \n",
       "25%            0.065000            97.357500         0.955000  \n",
       "50%            0.570000            98.185000         1.295000  \n",
       "75%            1.065000            98.652500         1.607500  \n",
       "max           12.330000            99.920000         2.720000  "
      ]
     },
     "execution_count": 30,
     "metadata": {},
     "output_type": "execute_result"
    }
   ],
   "source": [
    "df.describe()"
   ]
  },
  {
   "cell_type": "code",
   "execution_count": 31,
   "metadata": {},
   "outputs": [
    {
     "data": {
      "image/png": "[encoded data removed]",
      "text/plain": [
       "<Figure size 432x288 with 1 Axes>"
      ]
     },
     "metadata": {
      "needs_background": "light"
     },
     "output_type": "display_data"
    },
    {
     "data": {
      "image/png": "[encoded data removed]",
      "text/plain": [
       "<Figure size 432x288 with 1 Axes>"
      ]
     },
     "metadata": {
      "needs_background": "light"
     },
     "output_type": "display_data"
    },
    {
     "data": {
      "image/png": "[encoded data removed]",
      "text/plain": [
       "<Figure size 432x288 with 1 Axes>"
      ]
     },
     "metadata": {
      "needs_background": "light"
     },
     "output_type": "display_data"
    }
   ],
   "source": [
    "ratio = ['Active Ratio (%)','Discharge Ratio (%)','Death Ratio (%)']\n",
    "    \n",
    "for values in ratio:\n",
    "    df[values].plot(kind='hist',bins =10)\n",
    "    plt.title('{valname} percentage'.format(valname = values))\n",
    "    plt.xlabel('value in percentage')\n",
    "    plt.show()"
   ]
  },
  {
   "cell_type": "code",
   "execution_count": 32,
   "metadata": {},
   "outputs": [
    {
     "data": {
      "image/png": "[encoded data removed]",
      "text/plain": [
       "<Figure size 720x720 with 1 Axes>"
      ]
     },
     "metadata": {
      "needs_background": "light"
     },
     "output_type": "display_data"
    }
   ],
   "source": [
    "# Statewise Total cases\n",
    "\n",
    "total_case_sort = df.sort_values(by='Total Cases',ascending = False)\n",
    "plt.figure(figsize= (10,10))\n",
    "sns.barplot(data = total_case_sort,x ='State/UTs',y='Total Cases')\n",
    "plt.xticks(rotation = 90)\n",
    "plt.show()"
   ]
  },
  {
   "cell_type": "code",
   "execution_count": 33,
   "metadata": {},
   "outputs": [
    {
     "data": {
      "image/png": "[encoded data removed]",
      "text/plain": [
       "<Figure size 864x288 with 1 Axes>"
      ]
     },
     "metadata": {
      "needs_background": "light"
     },
     "output_type": "display_data"
    }
   ],
   "source": [
    "# Statewise Active Cases\n",
    "\n",
    "sns.catplot(data = df,x ='State/UTs',y='Active',kind=\"bar\",height = 4,aspect =3)\n",
    "plt.xticks(rotation = 90)\n",
    "plt.show()"
   ]
  },
  {
   "cell_type": "code",
   "execution_count": 34,
   "metadata": {},
   "outputs": [
    {
     "data": {
      "image/png": "[encoded data removed]",
      "text/plain": [
       "<Figure size 864x288 with 1 Axes>"
      ]
     },
     "metadata": {
      "needs_background": "light"
     },
     "output_type": "display_data"
    }
   ],
   "source": [
    "#Statewise Discharged cases\n",
    "\n",
    "sns.catplot(data = df,x ='State/UTs',y='Discharged',kind=\"bar\",height = 4,aspect =3)\n",
    "plt.xticks(rotation = 90)\n",
    "plt.show()"
   ]
  },
  {
   "cell_type": "code",
   "execution_count": 35,
   "metadata": {},
   "outputs": [
    {
     "data": {
      "image/png": "[encoded data removed]",
      "text/plain": [
       "<Figure size 864x288 with 1 Axes>"
      ]
     },
     "metadata": {
      "needs_background": "light"
     },
     "output_type": "display_data"
    }
   ],
   "source": [
    "#Statewise Deaths\n",
    "\n",
    "sns.catplot(data = df,x ='State/UTs',y='Deaths',kind=\"bar\",height = 4,aspect =3)\n",
    "plt.xticks(rotation = 90)\n",
    "plt.show()"
   ]
  },
  {
   "cell_type": "code",
   "execution_count": 36,
   "metadata": {},
   "outputs": [
    {
     "data": {
      "text/plain": [
       "<seaborn.axisgrid.PairGrid at 0x17e89f5cf40>"
      ]
     },
     "execution_count": 36,
     "metadata": {},
     "output_type": "execute_result"
    },
    {
     "data": {
      "image/png": "[encoded data removed]",
      "text/plain": [
       "<Figure size 540x540 with 12 Axes>"
      ]
     },
     "metadata": {
      "needs_background": "light"
     },
     "output_type": "display_data"
    }
   ],
   "source": [
    "sns.pairplot(df[['Active','Discharged','Deaths']])"
   ]
  },
  {
   "cell_type": "code",
   "execution_count": 37,
   "metadata": {},
   "outputs": [],
   "source": [
    "# Diffrentiating the states as high or low on the basis of total number of cases\n",
    "\n",
    "status =[]\n",
    "\n",
    "for vals in df['Active']:\n",
    "    if vals>10000:\n",
    "        status.append('high')\n",
    "    else:\n",
    "        status.append('low')"
   ]
  },
  {
   "cell_type": "code",
   "execution_count": 38,
   "metadata": {},
   "outputs": [
    {
     "data": {
      "application/vnd.plotly.v1+json": {
       "config": {
        "plotlyServerURL": "https://plot.ly"
       },
       "data": [
        {
         "alignmentgroup": "True",
         "hovertemplate": "status_of_cases=low<br>State/UTs=%{x}<br>Total Cases=%{y}<extra></extra>",
         "legendgroup": "low",
         "marker": {
          "color": "#636efa",
          "pattern": {
           "shape": ""
          }
         },
         "name": "low",
         "offsetgroup": "low",
         "orientation": "v",
         "showlegend": true,
         "textposition": "auto",
         "type": "bar",
         "x": [
          "Andaman and Nicobar",
          "Arunachal Pradesh",
          "Assam",
          "Bihar",
          "Chandigarh",
          "Chhattisgarh",
          "Dadra and Nagar Haveli and Daman and Diu",
          "Delhi",
          "Goa",
          "Gujarat",
          "Haryana",
          "Himachal Pradesh",
          "Jammu and Kashmir",
          "Jharkhand",
          "Ladakh",
          "Lakshadweep",
          "Madhya Pradesh",
          "Manipur",
          "Meghalaya",
          "Mizoram",
          "Nagaland",
          "Odisha",
          "Puducherry",
          "Punjab",
          "Rajasthan",
          "Sikkim",
          "Telengana",
          "Tripura",
          "Uttar Pradesh",
          "Uttarakhand",
          "West Bengal"
         ],
         "xaxis": "x",
         "y": [
          7560,
          52409,
          585689,
          725605,
          65069,
          1004230,
          10659,
          1437485,
          173357,
          825330,
          770380,
          212260,
          324420,
          347755,
          20500,
          10318,
          792109,
          111598,
          74232,
          54057,
          29669,
          1002323,
          123007,
          600342,
          954040,
          29477,
          655732,
          82384,
          1709152,
          342786,
          1544109
         ],
         "yaxis": "y"
        },
        {
         "alignmentgroup": "True",
         "hovertemplate": "status_of_cases=high<br>State/UTs=%{x}<br>Total Cases=%{y}<extra></extra>",
         "legendgroup": "high",
         "marker": {
          "color": "#EF553B",
          "pattern": {
           "shape": ""
          }
         },
         "name": "high",
         "offsetgroup": "high",
         "orientation": "v",
         "showlegend": true,
         "textposition": "auto",
         "type": "bar",
         "x": [
          "Andhra Pradesh",
          "Karnataka",
          "Kerala",
          "Maharashtra",
          "Tamil Nadu"
         ],
         "xaxis": "x",
         "y": [
          2004590,
          2941026,
          3851984,
          6432649,
          2604074
         ],
         "yaxis": "y"
        }
       ],
       "layout": {
        "barmode": "relative",
        "legend": {
         "title": {
          "text": "status_of_cases"
         },
         "tracegroupgap": 0
        },
        "margin": {
         "t": 60
        },
        "template": {
         "data": {
          "bar": [
           {
            "error_x": {
             "color": "#2a3f5f"
            },
            "error_y": {
             "color": "#2a3f5f"
            },
            "marker": {
             "line": {
              "color": "#E5ECF6",
              "width": 0.5
             },
             "pattern": {
              "fillmode": "overlay",
              "size": 10,
              "solidity": 0.2
             }
            },
            "type": "bar"
           }
          ],
          "barpolar": [
           {
            "marker": {
             "line": {
              "color": "#E5ECF6",
              "width": 0.5
             },
             "pattern": {
              "fillmode": "overlay",
              "size": 10,
              "solidity": 0.2
             }
            },
            "type": "barpolar"
           }
          ],
          "carpet": [
           {
            "aaxis": {
             "endlinecolor": "#2a3f5f",
             "gridcolor": "white",
             "linecolor": "white",
             "minorgridcolor": "white",
             "startlinecolor": "#2a3f5f"
            },
            "baxis": {
             "endlinecolor": "#2a3f5f",
             "gridcolor": "white",
             "linecolor": "white",
             "minorgridcolor": "white",
             "startlinecolor": "#2a3f5f"
            },
            "type": "carpet"
           }
          ],
          "choropleth": [
           {
            "colorbar": {
             "outlinewidth": 0,
             "ticks": ""
            },
            "type": "choropleth"
           }
          ],
          "contour": [
           {
            "colorbar": {
             "outlinewidth": 0,
             "ticks": ""
            },
            "colorscale": [
             [
              0,
              "#0d0887"
             ],
             [
              0.1111111111111111,
              "#46039f"
             ],
             [
              0.2222222222222222,
              "#7201a8"
             ],
             [
              0.3333333333333333,
              "#9c179e"
             ],
             [
              0.4444444444444444,
              "#bd3786"
             ],
             [
              0.5555555555555556,
              "#d8576b"
             ],
             [
              0.6666666666666666,
              "#ed7953"
             ],
             [
              0.7777777777777778,
              "#fb9f3a"
             ],
             [
              0.8888888888888888,
              "#fdca26"
             ],
             [
              1,
              "#f0f921"
             ]
            ],
            "type": "contour"
           }
          ],
          "contourcarpet": [
           {
            "colorbar": {
             "outlinewidth": 0,
             "ticks": ""
            },
            "type": "contourcarpet"
           }
          ],
          "heatmap": [
           {
            "colorbar": {
             "outlinewidth": 0,
             "ticks": ""
            },
            "colorscale": [
             [
              0,
              "#0d0887"
             ],
             [
              0.1111111111111111,
              "#46039f"
             ],
             [
              0.2222222222222222,
              "#7201a8"
             ],
             [
              0.3333333333333333,
              "#9c179e"
             ],
             [
              0.4444444444444444,
              "#bd3786"
             ],
             [
              0.5555555555555556,
              "#d8576b"
             ],
             [
              0.6666666666666666,
              "#ed7953"
             ],
             [
              0.7777777777777778,
              "#fb9f3a"
             ],
             [
              0.8888888888888888,
              "#fdca26"
             ],
             [
              1,
              "#f0f921"
             ]
            ],
            "type": "heatmap"
           }
          ],
          "heatmapgl": [
           {
            "colorbar": {
             "outlinewidth": 0,
             "ticks": ""
            },
            "colorscale": [
             [
              0,
              "#0d0887"
             ],
             [
              0.1111111111111111,
              "#46039f"
             ],
             [
              0.2222222222222222,
              "#7201a8"
             ],
             [
              0.3333333333333333,
              "#9c179e"
             ],
             [
              0.4444444444444444,
              "#bd3786"
             ],
             [
              0.5555555555555556,
              "#d8576b"
             ],
             [
              0.6666666666666666,
              "#ed7953"
             ],
             [
              0.7777777777777778,
              "#fb9f3a"
             ],
             [
              0.8888888888888888,
              "#fdca26"
             ],
             [
              1,
              "#f0f921"
             ]
            ],
            "type": "heatmapgl"
           }
          ],
          "histogram": [
           {
            "marker": {
             "pattern": {
              "fillmode": "overlay",
              "size": 10,
              "solidity": 0.2
             }
            },
            "type": "histogram"
           }
          ],
          "histogram2d": [
           {
            "colorbar": {
             "outlinewidth": 0,
             "ticks": ""
            },
            "colorscale": [
             [
              0,
              "#0d0887"
             ],
             [
              0.1111111111111111,
              "#46039f"
             ],
             [
              0.2222222222222222,
              "#7201a8"
             ],
             [
              0.3333333333333333,
              "#9c179e"
             ],
             [
              0.4444444444444444,
              "#bd3786"
             ],
             [
              0.5555555555555556,
              "#d8576b"
             ],
             [
              0.6666666666666666,
              "#ed7953"
             ],
             [
              0.7777777777777778,
              "#fb9f3a"
             ],
             [
              0.8888888888888888,
              "#fdca26"
             ],
             [
              1,
              "#f0f921"
             ]
            ],
            "type": "histogram2d"
           }
          ],
          "histogram2dcontour": [
           {
            "colorbar": {
             "outlinewidth": 0,
             "ticks": ""
            },
            "colorscale": [
             [
              0,
              "#0d0887"
             ],
             [
              0.1111111111111111,
              "#46039f"
             ],
             [
              0.2222222222222222,
              "#7201a8"
             ],
             [
              0.3333333333333333,
              "#9c179e"
             ],
             [
              0.4444444444444444,
              "#bd3786"
             ],
             [
              0.5555555555555556,
              "#d8576b"
             ],
             [
              0.6666666666666666,
              "#ed7953"
             ],
             [
              0.7777777777777778,
              "#fb9f3a"
             ],
             [
              0.8888888888888888,
              "#fdca26"
             ],
             [
              1,
              "#f0f921"
             ]
            ],
            "type": "histogram2dcontour"
           }
          ],
          "mesh3d": [
           {
            "colorbar": {
             "outlinewidth": 0,
             "ticks": ""
            },
            "type": "mesh3d"
           }
          ],
          "parcoords": [
           {
            "line": {
             "colorbar": {
              "outlinewidth": 0,
              "ticks": ""
             }
            },
            "type": "parcoords"
           }
          ],
          "pie": [
           {
            "automargin": true,
            "type": "pie"
           }
          ],
          "scatter": [
           {
            "marker": {
             "colorbar": {
              "outlinewidth": 0,
              "ticks": ""
             }
            },
            "type": "scatter"
           }
          ],
          "scatter3d": [
           {
            "line": {
             "colorbar": {
              "outlinewidth": 0,
              "ticks": ""
             }
            },
            "marker": {
             "colorbar": {
              "outlinewidth": 0,
              "ticks": ""
             }
            },
            "type": "scatter3d"
           }
          ],
          "scattercarpet": [
           {
            "marker": {
             "colorbar": {
              "outlinewidth": 0,
              "ticks": ""
             }
            },
            "type": "scattercarpet"
           }
          ],
          "scattergeo": [
           {
            "marker": {
             "colorbar": {
              "outlinewidth": 0,
              "ticks": ""
             }
            },
            "type": "scattergeo"
           }
          ],
          "scattergl": [
           {
            "marker": {
             "colorbar": {
              "outlinewidth": 0,
              "ticks": ""
             }
            },
            "type": "scattergl"
           }
          ],
          "scattermapbox": [
           {
            "marker": {
             "colorbar": {
              "outlinewidth": 0,
              "ticks": ""
             }
            },
            "type": "scattermapbox"
           }
          ],
          "scatterpolar": [
           {
            "marker": {
             "colorbar": {
              "outlinewidth": 0,
              "ticks": ""
             }
            },
            "type": "scatterpolar"
           }
          ],
          "scatterpolargl": [
           {
            "marker": {
             "colorbar": {
              "outlinewidth": 0,
              "ticks": ""
             }
            },
            "type": "scatterpolargl"
           }
          ],
          "scatterternary": [
           {
            "marker": {
             "colorbar": {
              "outlinewidth": 0,
              "ticks": ""
             }
            },
            "type": "scatterternary"
           }
          ],
          "surface": [
           {
            "colorbar": {
             "outlinewidth": 0,
             "ticks": ""
            },
            "colorscale": [
             [
              0,
              "#0d0887"
             ],
             [
              0.1111111111111111,
              "#46039f"
             ],
             [
              0.2222222222222222,
              "#7201a8"
             ],
             [
              0.3333333333333333,
              "#9c179e"
             ],
             [
              0.4444444444444444,
              "#bd3786"
             ],
             [
              0.5555555555555556,
              "#d8576b"
             ],
             [
              0.6666666666666666,
              "#ed7953"
             ],
             [
              0.7777777777777778,
              "#fb9f3a"
             ],
             [
              0.8888888888888888,
              "#fdca26"
             ],
             [
              1,
              "#f0f921"
             ]
            ],
            "type": "surface"
           }
          ],
          "table": [
           {
            "cells": {
             "fill": {
              "color": "#EBF0F8"
             },
             "line": {
              "color": "white"
             }
            },
            "header": {
             "fill": {
              "color": "#C8D4E3"
             },
             "line": {
              "color": "white"
             }
            },
            "type": "table"
           }
          ]
         },
         "layout": {
          "annotationdefaults": {
           "arrowcolor": "#2a3f5f",
           "arrowhead": 0,
           "arrowwidth": 1
          },
          "autotypenumbers": "strict",
          "coloraxis": {
           "colorbar": {
            "outlinewidth": 0,
            "ticks": ""
           }
          },
          "colorscale": {
           "diverging": [
            [
             0,
             "#8e0152"
            ],
            [
             0.1,
             "#c51b7d"
            ],
            [
             0.2,
             "#de77ae"
            ],
            [
             0.3,
             "#f1b6da"
            ],
            [
             0.4,
             "#fde0ef"
            ],
            [
             0.5,
             "#f7f7f7"
            ],
            [
             0.6,
             "#e6f5d0"
            ],
            [
             0.7,
             "#b8e186"
            ],
            [
             0.8,
             "#7fbc41"
            ],
            [
             0.9,
             "#4d9221"
            ],
            [
             1,
             "#276419"
            ]
           ],
           "sequential": [
            [
             0,
             "#0d0887"
            ],
            [
             0.1111111111111111,
             "#46039f"
            ],
            [
             0.2222222222222222,
             "#7201a8"
            ],
            [
             0.3333333333333333,
             "#9c179e"
            ],
            [
             0.4444444444444444,
             "#bd3786"
            ],
            [
             0.5555555555555556,
             "#d8576b"
            ],
            [
             0.6666666666666666,
             "#ed7953"
            ],
            [
             0.7777777777777778,
             "#fb9f3a"
            ],
            [
             0.8888888888888888,
             "#fdca26"
            ],
            [
             1,
             "#f0f921"
            ]
           ],
           "sequentialminus": [
            [
             0,
             "#0d0887"
            ],
            [
             0.1111111111111111,
             "#46039f"
            ],
            [
             0.2222222222222222,
             "#7201a8"
            ],
            [
             0.3333333333333333,
             "#9c179e"
            ],
            [
             0.4444444444444444,
             "#bd3786"
            ],
            [
             0.5555555555555556,
             "#d8576b"
            ],
            [
             0.6666666666666666,
             "#ed7953"
            ],
            [
             0.7777777777777778,
             "#fb9f3a"
            ],
            [
             0.8888888888888888,
             "#fdca26"
            ],
            [
             1,
             "#f0f921"
            ]
           ]
          },
          "colorway": [
           "#636efa",
           "#EF553B",
           "#00cc96",
           "#ab63fa",
           "#FFA15A",
           "#19d3f3",
           "#FF6692",
           "#B6E880",
           "#FF97FF",
           "#FECB52"
          ],
          "font": {
           "color": "#2a3f5f"
          },
          "geo": {
           "bgcolor": "white",
           "lakecolor": "white",
           "landcolor": "#E5ECF6",
           "showlakes": true,
           "showland": true,
           "subunitcolor": "white"
          },
          "hoverlabel": {
           "align": "left"
          },
          "hovermode": "closest",
          "mapbox": {
           "style": "light"
          },
          "paper_bgcolor": "white",
          "plot_bgcolor": "#E5ECF6",
          "polar": {
           "angularaxis": {
            "gridcolor": "white",
            "linecolor": "white",
            "ticks": ""
           },
           "bgcolor": "#E5ECF6",
           "radialaxis": {
            "gridcolor": "white",
            "linecolor": "white",
            "ticks": ""
           }
          },
          "scene": {
           "xaxis": {
            "backgroundcolor": "#E5ECF6",
            "gridcolor": "white",
            "gridwidth": 2,
            "linecolor": "white",
            "showbackground": true,
            "ticks": "",
            "zerolinecolor": "white"
           },
           "yaxis": {
            "backgroundcolor": "#E5ECF6",
            "gridcolor": "white",
            "gridwidth": 2,
            "linecolor": "white",
            "showbackground": true,
            "ticks": "",
            "zerolinecolor": "white"
           },
           "zaxis": {
            "backgroundcolor": "#E5ECF6",
            "gridcolor": "white",
            "gridwidth": 2,
            "linecolor": "white",
            "showbackground": true,
            "ticks": "",
            "zerolinecolor": "white"
           }
          },
          "shapedefaults": {
           "line": {
            "color": "#2a3f5f"
           }
          },
          "ternary": {
           "aaxis": {
            "gridcolor": "white",
            "linecolor": "white",
            "ticks": ""
           },
           "baxis": {
            "gridcolor": "white",
            "linecolor": "white",
            "ticks": ""
           },
           "bgcolor": "#E5ECF6",
           "caxis": {
            "gridcolor": "white",
            "linecolor": "white",
            "ticks": ""
           }
          },
          "title": {
           "x": 0.05
          },
          "xaxis": {
           "automargin": true,
           "gridcolor": "white",
           "linecolor": "white",
           "ticks": "",
           "title": {
            "standoff": 15
           },
           "zerolinecolor": "white",
           "zerolinewidth": 2
          },
          "yaxis": {
           "automargin": true,
           "gridcolor": "white",
           "linecolor": "white",
           "ticks": "",
           "title": {
            "standoff": 15
           },
           "zerolinecolor": "white",
           "zerolinewidth": 2
          }
         }
        },
        "xaxis": {
         "anchor": "y",
         "domain": [
          0,
          1
         ],
         "title": {
          "text": "State/UTs"
         }
        },
        "yaxis": {
         "anchor": "x",
         "domain": [
          0,
          1
         ],
         "title": {
          "text": "Total Cases"
         }
        }
       }
      },
      "text/html": [
       "<div>                            <div id=\"2de9edd9-3095-4d31-bfd7-f738ac82d4d3\" class=\"plotly-graph-div\" style=\"height:525px; width:100%;\"></div>            <script type=\"text/javascript\">                require([\"plotly\"], function(Plotly) {                    window.PLOTLYENV=window.PLOTLYENV || {};                                    if (document.getElementById(\"2de9edd9-3095-4d31-bfd7-f738ac82d4d3\")) {                    Plotly.newPlot(                        \"2de9edd9-3095-4d31-bfd7-f738ac82d4d3\",                        [{\"alignmentgroup\":\"True\",\"hovertemplate\":\"status_of_cases=low<br>State/UTs=%{x}<br>Total Cases=%{y}<extra></extra>\",\"legendgroup\":\"low\",\"marker\":{\"color\":\"#636efa\",\"pattern\":{\"shape\":\"\"}},\"name\":\"low\",\"offsetgroup\":\"low\",\"orientation\":\"v\",\"showlegend\":true,\"textposition\":\"auto\",\"type\":\"bar\",\"x\":[\"Andaman and Nicobar\",\"Arunachal Pradesh\",\"Assam\",\"Bihar\",\"Chandigarh\",\"Chhattisgarh\",\"Dadra and Nagar Haveli and Daman and Diu\",\"Delhi\",\"Goa\",\"Gujarat\",\"Haryana\",\"Himachal Pradesh\",\"Jammu and Kashmir\",\"Jharkhand\",\"Ladakh\",\"Lakshadweep\",\"Madhya Pradesh\",\"Manipur\",\"Meghalaya\",\"Mizoram\",\"Nagaland\",\"Odisha\",\"Puducherry\",\"Punjab\",\"Rajasthan\",\"Sikkim\",\"Telengana\",\"Tripura\",\"Uttar Pradesh\",\"Uttarakhand\",\"West Bengal\"],\"xaxis\":\"x\",\"y\":[7560,52409,585689,725605,65069,1004230,10659,1437485,173357,825330,770380,212260,324420,347755,20500,10318,792109,111598,74232,54057,29669,1002323,123007,600342,954040,29477,655732,82384,1709152,342786,1544109],\"yaxis\":\"y\"},{\"alignmentgroup\":\"True\",\"hovertemplate\":\"status_of_cases=high<br>State/UTs=%{x}<br>Total Cases=%{y}<extra></extra>\",\"legendgroup\":\"high\",\"marker\":{\"color\":\"#EF553B\",\"pattern\":{\"shape\":\"\"}},\"name\":\"high\",\"offsetgroup\":\"high\",\"orientation\":\"v\",\"showlegend\":true,\"textposition\":\"auto\",\"type\":\"bar\",\"x\":[\"Andhra Pradesh\",\"Karnataka\",\"Kerala\",\"Maharashtra\",\"Tamil Nadu\"],\"xaxis\":\"x\",\"y\":[2004590,2941026,3851984,6432649,2604074],\"yaxis\":\"y\"}],                        {\"barmode\":\"relative\",\"legend\":{\"title\":{\"text\":\"status_of_cases\"},\"tracegroupgap\":0},\"margin\":{\"t\":60},\"template\":{\"data\":{\"bar\":[{\"error_x\":{\"color\":\"#2a3f5f\"},\"error_y\":{\"color\":\"#2a3f5f\"},\"marker\":{\"line\":{\"color\":\"#E5ECF6\",\"width\":0.5},\"pattern\":{\"fillmode\":\"overlay\",\"size\":10,\"solidity\":0.2}},\"type\":\"bar\"}],\"barpolar\":[{\"marker\":{\"line\":{\"color\":\"#E5ECF6\",\"width\":0.5},\"pattern\":{\"fillmode\":\"overlay\",\"size\":10,\"solidity\":0.2}},\"type\":\"barpolar\"}],\"carpet\":[{\"aaxis\":{\"endlinecolor\":\"#2a3f5f\",\"gridcolor\":\"white\",\"linecolor\":\"white\",\"minorgridcolor\":\"white\",\"startlinecolor\":\"#2a3f5f\"},\"baxis\":{\"endlinecolor\":\"#2a3f5f\",\"gridcolor\":\"white\",\"linecolor\":\"white\",\"minorgridcolor\":\"white\",\"startlinecolor\":\"#2a3f5f\"},\"type\":\"carpet\"}],\"choropleth\":[{\"colorbar\":{\"outlinewidth\":0,\"ticks\":\"\"},\"type\":\"choropleth\"}],\"contour\":[{\"colorbar\":{\"outlinewidth\":0,\"ticks\":\"\"},\"colorscale\":[[0.0,\"#0d0887\"],[0.1111111111111111,\"#46039f\"],[0.2222222222222222,\"#7201a8\"],[0.3333333333333333,\"#9c179e\"],[0.4444444444444444,\"#bd3786\"],[0.5555555555555556,\"#d8576b\"],[0.6666666666666666,\"#ed7953\"],[0.7777777777777778,\"#fb9f3a\"],[0.8888888888888888,\"#fdca26\"],[1.0,\"#f0f921\"]],\"type\":\"contour\"}],\"contourcarpet\":[{\"colorbar\":{\"outlinewidth\":0,\"ticks\":\"\"},\"type\":\"contourcarpet\"}],\"heatmap\":[{\"colorbar\":{\"outlinewidth\":0,\"ticks\":\"\"},\"colorscale\":[[0.0,\"#0d0887\"],[0.1111111111111111,\"#46039f\"],[0.2222222222222222,\"#7201a8\"],[0.3333333333333333,\"#9c179e\"],[0.4444444444444444,\"#bd3786\"],[0.5555555555555556,\"#d8576b\"],[0.6666666666666666,\"#ed7953\"],[0.7777777777777778,\"#fb9f3a\"],[0.8888888888888888,\"#fdca26\"],[1.0,\"#f0f921\"]],\"type\":\"heatmap\"}],\"heatmapgl\":[{\"colorbar\":{\"outlinewidth\":0,\"ticks\":\"\"},\"colorscale\":[[0.0,\"#0d0887\"],[0.1111111111111111,\"#46039f\"],[0.2222222222222222,\"#7201a8\"],[0.3333333333333333,\"#9c179e\"],[0.4444444444444444,\"#bd3786\"],[0.5555555555555556,\"#d8576b\"],[0.6666666666666666,\"#ed7953\"],[0.7777777777777778,\"#fb9f3a\"],[0.8888888888888888,\"#fdca26\"],[1.0,\"#f0f921\"]],\"type\":\"heatmapgl\"}],\"histogram\":[{\"marker\":{\"pattern\":{\"fillmode\":\"overlay\",\"size\":10,\"solidity\":0.2}},\"type\":\"histogram\"}],\"histogram2d\":[{\"colorbar\":{\"outlinewidth\":0,\"ticks\":\"\"},\"colorscale\":[[0.0,\"#0d0887\"],[0.1111111111111111,\"#46039f\"],[0.2222222222222222,\"#7201a8\"],[0.3333333333333333,\"#9c179e\"],[0.4444444444444444,\"#bd3786\"],[0.5555555555555556,\"#d8576b\"],[0.6666666666666666,\"#ed7953\"],[0.7777777777777778,\"#fb9f3a\"],[0.8888888888888888,\"#fdca26\"],[1.0,\"#f0f921\"]],\"type\":\"histogram2d\"}],\"histogram2dcontour\":[{\"colorbar\":{\"outlinewidth\":0,\"ticks\":\"\"},\"colorscale\":[[0.0,\"#0d0887\"],[0.1111111111111111,\"#46039f\"],[0.2222222222222222,\"#7201a8\"],[0.3333333333333333,\"#9c179e\"],[0.4444444444444444,\"#bd3786\"],[0.5555555555555556,\"#d8576b\"],[0.6666666666666666,\"#ed7953\"],[0.7777777777777778,\"#fb9f3a\"],[0.8888888888888888,\"#fdca26\"],[1.0,\"#f0f921\"]],\"type\":\"histogram2dcontour\"}],\"mesh3d\":[{\"colorbar\":{\"outlinewidth\":0,\"ticks\":\"\"},\"type\":\"mesh3d\"}],\"parcoords\":[{\"line\":{\"colorbar\":{\"outlinewidth\":0,\"ticks\":\"\"}},\"type\":\"parcoords\"}],\"pie\":[{\"automargin\":true,\"type\":\"pie\"}],\"scatter\":[{\"marker\":{\"colorbar\":{\"outlinewidth\":0,\"ticks\":\"\"}},\"type\":\"scatter\"}],\"scatter3d\":[{\"line\":{\"colorbar\":{\"outlinewidth\":0,\"ticks\":\"\"}},\"marker\":{\"colorbar\":{\"outlinewidth\":0,\"ticks\":\"\"}},\"type\":\"scatter3d\"}],\"scattercarpet\":[{\"marker\":{\"colorbar\":{\"outlinewidth\":0,\"ticks\":\"\"}},\"type\":\"scattercarpet\"}],\"scattergeo\":[{\"marker\":{\"colorbar\":{\"outlinewidth\":0,\"ticks\":\"\"}},\"type\":\"scattergeo\"}],\"scattergl\":[{\"marker\":{\"colorbar\":{\"outlinewidth\":0,\"ticks\":\"\"}},\"type\":\"scattergl\"}],\"scattermapbox\":[{\"marker\":{\"colorbar\":{\"outlinewidth\":0,\"ticks\":\"\"}},\"type\":\"scattermapbox\"}],\"scatterpolar\":[{\"marker\":{\"colorbar\":{\"outlinewidth\":0,\"ticks\":\"\"}},\"type\":\"scatterpolar\"}],\"scatterpolargl\":[{\"marker\":{\"colorbar\":{\"outlinewidth\":0,\"ticks\":\"\"}},\"type\":\"scatterpolargl\"}],\"scatterternary\":[{\"marker\":{\"colorbar\":{\"outlinewidth\":0,\"ticks\":\"\"}},\"type\":\"scatterternary\"}],\"surface\":[{\"colorbar\":{\"outlinewidth\":0,\"ticks\":\"\"},\"colorscale\":[[0.0,\"#0d0887\"],[0.1111111111111111,\"#46039f\"],[0.2222222222222222,\"#7201a8\"],[0.3333333333333333,\"#9c179e\"],[0.4444444444444444,\"#bd3786\"],[0.5555555555555556,\"#d8576b\"],[0.6666666666666666,\"#ed7953\"],[0.7777777777777778,\"#fb9f3a\"],[0.8888888888888888,\"#fdca26\"],[1.0,\"#f0f921\"]],\"type\":\"surface\"}],\"table\":[{\"cells\":{\"fill\":{\"color\":\"#EBF0F8\"},\"line\":{\"color\":\"white\"}},\"header\":{\"fill\":{\"color\":\"#C8D4E3\"},\"line\":{\"color\":\"white\"}},\"type\":\"table\"}]},\"layout\":{\"annotationdefaults\":{\"arrowcolor\":\"#2a3f5f\",\"arrowhead\":0,\"arrowwidth\":1},\"autotypenumbers\":\"strict\",\"coloraxis\":{\"colorbar\":{\"outlinewidth\":0,\"ticks\":\"\"}},\"colorscale\":{\"diverging\":[[0,\"#8e0152\"],[0.1,\"#c51b7d\"],[0.2,\"#de77ae\"],[0.3,\"#f1b6da\"],[0.4,\"#fde0ef\"],[0.5,\"#f7f7f7\"],[0.6,\"#e6f5d0\"],[0.7,\"#b8e186\"],[0.8,\"#7fbc41\"],[0.9,\"#4d9221\"],[1,\"#276419\"]],\"sequential\":[[0.0,\"#0d0887\"],[0.1111111111111111,\"#46039f\"],[0.2222222222222222,\"#7201a8\"],[0.3333333333333333,\"#9c179e\"],[0.4444444444444444,\"#bd3786\"],[0.5555555555555556,\"#d8576b\"],[0.6666666666666666,\"#ed7953\"],[0.7777777777777778,\"#fb9f3a\"],[0.8888888888888888,\"#fdca26\"],[1.0,\"#f0f921\"]],\"sequentialminus\":[[0.0,\"#0d0887\"],[0.1111111111111111,\"#46039f\"],[0.2222222222222222,\"#7201a8\"],[0.3333333333333333,\"#9c179e\"],[0.4444444444444444,\"#bd3786\"],[0.5555555555555556,\"#d8576b\"],[0.6666666666666666,\"#ed7953\"],[0.7777777777777778,\"#fb9f3a\"],[0.8888888888888888,\"#fdca26\"],[1.0,\"#f0f921\"]]},\"colorway\":[\"#636efa\",\"#EF553B\",\"#00cc96\",\"#ab63fa\",\"#FFA15A\",\"#19d3f3\",\"#FF6692\",\"#B6E880\",\"#FF97FF\",\"#FECB52\"],\"font\":{\"color\":\"#2a3f5f\"},\"geo\":{\"bgcolor\":\"white\",\"lakecolor\":\"white\",\"landcolor\":\"#E5ECF6\",\"showlakes\":true,\"showland\":true,\"subunitcolor\":\"white\"},\"hoverlabel\":{\"align\":\"left\"},\"hovermode\":\"closest\",\"mapbox\":{\"style\":\"light\"},\"paper_bgcolor\":\"white\",\"plot_bgcolor\":\"#E5ECF6\",\"polar\":{\"angularaxis\":{\"gridcolor\":\"white\",\"linecolor\":\"white\",\"ticks\":\"\"},\"bgcolor\":\"#E5ECF6\",\"radialaxis\":{\"gridcolor\":\"white\",\"linecolor\":\"white\",\"ticks\":\"\"}},\"scene\":{\"xaxis\":{\"backgroundcolor\":\"#E5ECF6\",\"gridcolor\":\"white\",\"gridwidth\":2,\"linecolor\":\"white\",\"showbackground\":true,\"ticks\":\"\",\"zerolinecolor\":\"white\"},\"yaxis\":{\"backgroundcolor\":\"#E5ECF6\",\"gridcolor\":\"white\",\"gridwidth\":2,\"linecolor\":\"white\",\"showbackground\":true,\"ticks\":\"\",\"zerolinecolor\":\"white\"},\"zaxis\":{\"backgroundcolor\":\"#E5ECF6\",\"gridcolor\":\"white\",\"gridwidth\":2,\"linecolor\":\"white\",\"showbackground\":true,\"ticks\":\"\",\"zerolinecolor\":\"white\"}},\"shapedefaults\":{\"line\":{\"color\":\"#2a3f5f\"}},\"ternary\":{\"aaxis\":{\"gridcolor\":\"white\",\"linecolor\":\"white\",\"ticks\":\"\"},\"baxis\":{\"gridcolor\":\"white\",\"linecolor\":\"white\",\"ticks\":\"\"},\"bgcolor\":\"#E5ECF6\",\"caxis\":{\"gridcolor\":\"white\",\"linecolor\":\"white\",\"ticks\":\"\"}},\"title\":{\"x\":0.05},\"xaxis\":{\"automargin\":true,\"gridcolor\":\"white\",\"linecolor\":\"white\",\"ticks\":\"\",\"title\":{\"standoff\":15},\"zerolinecolor\":\"white\",\"zerolinewidth\":2},\"yaxis\":{\"automargin\":true,\"gridcolor\":\"white\",\"linecolor\":\"white\",\"ticks\":\"\",\"title\":{\"standoff\":15},\"zerolinecolor\":\"white\",\"zerolinewidth\":2}}},\"xaxis\":{\"anchor\":\"y\",\"domain\":[0.0,1.0],\"title\":{\"text\":\"State/UTs\"}},\"yaxis\":{\"anchor\":\"x\",\"domain\":[0.0,1.0],\"title\":{\"text\":\"Total Cases\"}}},                        {\"responsive\": true}                    ).then(function(){\n",
       "                            \n",
       "var gd = document.getElementById('2de9edd9-3095-4d31-bfd7-f738ac82d4d3');\n",
       "var x = new MutationObserver(function (mutations, observer) {{\n",
       "        var display = window.getComputedStyle(gd).display;\n",
       "        if (!display || display === 'none') {{\n",
       "            console.log([gd, 'removed!']);\n",
       "            Plotly.purge(gd);\n",
       "            observer.disconnect();\n",
       "        }}\n",
       "}});\n",
       "\n",
       "// Listen for the removal of the full notebook cells\n",
       "var notebookContainer = gd.closest('#notebook-container');\n",
       "if (notebookContainer) {{\n",
       "    x.observe(notebookContainer, {childList: true});\n",
       "}}\n",
       "\n",
       "// Listen for the clearing of the current output cell\n",
       "var outputEl = gd.closest('.output');\n",
       "if (outputEl) {{\n",
       "    x.observe(outputEl, {childList: true});\n",
       "}}\n",
       "\n",
       "                        })                };                });            </script>        </div>"
      ]
     },
     "metadata": {},
     "output_type": "display_data"
    }
   ],
   "source": [
    "df['status_of_cases'] = status\n",
    "figure = px.bar(df,x = 'State/UTs',y ='Total Cases',color='status_of_cases')\n",
    "figure.show()"
   ]
  },
  {
   "cell_type": "code",
   "execution_count": 39,
   "metadata": {},
   "outputs": [
    {
     "data": {
      "text/html": [
       "<div>\n",
       "<style scoped>\n",
       "    .dataframe tbody tr th:only-of-type {\n",
       "        vertical-align: middle;\n",
       "    }\n",
       "\n",
       "    .dataframe tbody tr th {\n",
       "        vertical-align: top;\n",
       "    }\n",
       "\n",
       "    .dataframe thead th {\n",
       "        text-align: right;\n",
       "    }\n",
       "</style>\n",
       "<table border=\"1\" class=\"dataframe\">\n",
       "  <thead>\n",
       "    <tr style=\"text-align: right;\">\n",
       "      <th></th>\n",
       "      <th>Total Cases</th>\n",
       "      <th>Active</th>\n",
       "      <th>Discharged</th>\n",
       "      <th>Deaths</th>\n",
       "      <th>Active Ratio (%)</th>\n",
       "      <th>Discharge Ratio (%)</th>\n",
       "      <th>Death Ratio (%)</th>\n",
       "    </tr>\n",
       "  </thead>\n",
       "  <tbody>\n",
       "    <tr>\n",
       "      <th>Total Cases</th>\n",
       "      <td>1.000000</td>\n",
       "      <td>0.657405</td>\n",
       "      <td>0.999924</td>\n",
       "      <td>0.904746</td>\n",
       "      <td>-0.083121</td>\n",
       "      <td>0.062078</td>\n",
       "      <td>0.092816</td>\n",
       "    </tr>\n",
       "    <tr>\n",
       "      <th>Active</th>\n",
       "      <td>0.657405</td>\n",
       "      <td>1.000000</td>\n",
       "      <td>0.649104</td>\n",
       "      <td>0.373963</td>\n",
       "      <td>0.217516</td>\n",
       "      <td>-0.181338</td>\n",
       "      <td>-0.173172</td>\n",
       "    </tr>\n",
       "    <tr>\n",
       "      <th>Discharged</th>\n",
       "      <td>0.999924</td>\n",
       "      <td>0.649104</td>\n",
       "      <td>1.000000</td>\n",
       "      <td>0.906137</td>\n",
       "      <td>-0.088095</td>\n",
       "      <td>0.066903</td>\n",
       "      <td>0.094055</td>\n",
       "    </tr>\n",
       "    <tr>\n",
       "      <th>Deaths</th>\n",
       "      <td>0.904746</td>\n",
       "      <td>0.373963</td>\n",
       "      <td>0.906137</td>\n",
       "      <td>1.000000</td>\n",
       "      <td>-0.125013</td>\n",
       "      <td>0.055103</td>\n",
       "      <td>0.292854</td>\n",
       "    </tr>\n",
       "    <tr>\n",
       "      <th>Active Ratio (%)</th>\n",
       "      <td>-0.083121</td>\n",
       "      <td>0.217516</td>\n",
       "      <td>-0.088095</td>\n",
       "      <td>-0.125013</td>\n",
       "      <td>1.000000</td>\n",
       "      <td>-0.969908</td>\n",
       "      <td>-0.251648</td>\n",
       "    </tr>\n",
       "    <tr>\n",
       "      <th>Discharge Ratio (%)</th>\n",
       "      <td>0.062078</td>\n",
       "      <td>-0.181338</td>\n",
       "      <td>0.066903</td>\n",
       "      <td>0.055103</td>\n",
       "      <td>-0.969908</td>\n",
       "      <td>1.000000</td>\n",
       "      <td>0.008449</td>\n",
       "    </tr>\n",
       "    <tr>\n",
       "      <th>Death Ratio (%)</th>\n",
       "      <td>0.092816</td>\n",
       "      <td>-0.173172</td>\n",
       "      <td>0.094055</td>\n",
       "      <td>0.292854</td>\n",
       "      <td>-0.251648</td>\n",
       "      <td>0.008449</td>\n",
       "      <td>1.000000</td>\n",
       "    </tr>\n",
       "  </tbody>\n",
       "</table>\n",
       "</div>"
      ],
      "text/plain": [
       "                     Total Cases    Active  Discharged    Deaths  \\\n",
       "Total Cases             1.000000  0.657405    0.999924  0.904746   \n",
       "Active                  0.657405  1.000000    0.649104  0.373963   \n",
       "Discharged              0.999924  0.649104    1.000000  0.906137   \n",
       "Deaths                  0.904746  0.373963    0.906137  1.000000   \n",
       "Active Ratio (%)       -0.083121  0.217516   -0.088095 -0.125013   \n",
       "Discharge Ratio (%)     0.062078 -0.181338    0.066903  0.055103   \n",
       "Death Ratio (%)         0.092816 -0.173172    0.094055  0.292854   \n",
       "\n",
       "                     Active Ratio (%)  Discharge Ratio (%)  Death Ratio (%)  \n",
       "Total Cases                 -0.083121             0.062078         0.092816  \n",
       "Active                       0.217516            -0.181338        -0.173172  \n",
       "Discharged                  -0.088095             0.066903         0.094055  \n",
       "Deaths                      -0.125013             0.055103         0.292854  \n",
       "Active Ratio (%)             1.000000            -0.969908        -0.251648  \n",
       "Discharge Ratio (%)         -0.969908             1.000000         0.008449  \n",
       "Death Ratio (%)             -0.251648             0.008449         1.000000  "
      ]
     },
     "execution_count": 39,
     "metadata": {},
     "output_type": "execute_result"
    }
   ],
   "source": [
    "df.corr()"
   ]
  },
  {
   "cell_type": "code",
   "execution_count": 40,
   "metadata": {},
   "outputs": [
    {
     "data": {
      "image/png": "[encoded data removed]",
      "text/plain": [
       "<Figure size 720x576 with 2 Axes>"
      ]
     },
     "metadata": {
      "needs_background": "light"
     },
     "output_type": "display_data"
    }
   ],
   "source": [
    "plt.figure(figsize=(10,8))\n",
    "sns.heatmap(df.corr(),annot=True);"
   ]
  },
  {
   "cell_type": "code",
   "execution_count": 41,
   "metadata": {},
   "outputs": [
    {
     "data": {
      "application/vnd.plotly.v1+json": {
       "config": {
        "plotlyServerURL": "https://plot.ly"
       },
       "data": [
        {
         "hovertemplate": "State/UTs=Andaman and Nicobar<br>Total Cases=%{x}<br>Active=%{y}<br>Deaths=%{marker.size}<extra></extra>",
         "legendgroup": "Andaman and Nicobar",
         "marker": {
          "color": "#636efa",
          "size": [
           129
          ],
          "sizemode": "area",
          "sizeref": 85.221875,
          "symbol": "circle"
         },
         "mode": "markers",
         "name": "Andaman and Nicobar",
         "orientation": "v",
         "showlegend": true,
         "type": "scatter",
         "x": [
          7560
         ],
         "xaxis": "x",
         "y": [
          10
         ],
         "yaxis": "y"
        },
        {
         "hovertemplate": "State/UTs=Andhra Pradesh<br>Total Cases=%{x}<br>Active=%{y}<br>Deaths=%{marker.size}<extra></extra>",
         "legendgroup": "Andhra Pradesh",
         "marker": {
          "color": "#EF553B",
          "size": [
           13750
          ],
          "sizemode": "area",
          "sizeref": 85.221875,
          "symbol": "circle"
         },
         "mode": "markers",
         "name": "Andhra Pradesh",
         "orientation": "v",
         "showlegend": true,
         "type": "scatter",
         "x": [
          2004590
         ],
         "xaxis": "x",
         "y": [
          13677
         ],
         "yaxis": "y"
        },
        {
         "hovertemplate": "State/UTs=Arunachal Pradesh<br>Total Cases=%{x}<br>Active=%{y}<br>Deaths=%{marker.size}<extra></extra>",
         "legendgroup": "Arunachal Pradesh",
         "marker": {
          "color": "#00cc96",
          "size": [
           259
          ],
          "sizemode": "area",
          "sizeref": 85.221875,
          "symbol": "circle"
         },
         "mode": "markers",
         "name": "Arunachal Pradesh",
         "orientation": "v",
         "showlegend": true,
         "type": "scatter",
         "x": [
          52409
         ],
         "xaxis": "x",
         "y": [
          1127
         ],
         "yaxis": "y"
        },
        {
         "hovertemplate": "State/UTs=Assam<br>Total Cases=%{x}<br>Active=%{y}<br>Deaths=%{marker.size}<extra></extra>",
         "legendgroup": "Assam",
         "marker": {
          "color": "#ab63fa",
          "size": [
           5600
          ],
          "sizemode": "area",
          "sizeref": 85.221875,
          "symbol": "circle"
         },
         "mode": "markers",
         "name": "Assam",
         "orientation": "v",
         "showlegend": true,
         "type": "scatter",
         "x": [
          585689
         ],
         "xaxis": "x",
         "y": [
          8005
         ],
         "yaxis": "y"
        },
        {
         "hovertemplate": "State/UTs=Bihar<br>Total Cases=%{x}<br>Active=%{y}<br>Deaths=%{marker.size}<extra></extra>",
         "legendgroup": "Bihar",
         "marker": {
          "color": "#FFA15A",
          "size": [
           9650
          ],
          "sizemode": "area",
          "sizeref": 85.221875,
          "symbol": "circle"
         },
         "mode": "markers",
         "name": "Bihar",
         "orientation": "v",
         "showlegend": true,
         "type": "scatter",
         "x": [
          725605
         ],
         "xaxis": "x",
         "y": [
          102
         ],
         "yaxis": "y"
        },
        {
         "hovertemplate": "State/UTs=Chandigarh<br>Total Cases=%{x}<br>Active=%{y}<br>Deaths=%{marker.size}<extra></extra>",
         "legendgroup": "Chandigarh",
         "marker": {
          "color": "#19d3f3",
          "size": [
           812
          ],
          "sizemode": "area",
          "sizeref": 85.221875,
          "symbol": "circle"
         },
         "mode": "markers",
         "name": "Chandigarh",
         "orientation": "v",
         "showlegend": true,
         "type": "scatter",
         "x": [
          65069
         ],
         "xaxis": "x",
         "y": [
          35
         ],
         "yaxis": "y"
        },
        {
         "hovertemplate": "State/UTs=Chhattisgarh<br>Total Cases=%{x}<br>Active=%{y}<br>Deaths=%{marker.size}<extra></extra>",
         "legendgroup": "Chhattisgarh",
         "marker": {
          "color": "#FF6692",
          "size": [
           13555
          ],
          "sizemode": "area",
          "sizeref": 85.221875,
          "symbol": "circle"
         },
         "mode": "markers",
         "name": "Chhattisgarh",
         "orientation": "v",
         "showlegend": true,
         "type": "scatter",
         "x": [
          1004230
         ],
         "xaxis": "x",
         "y": [
          653
         ],
         "yaxis": "y"
        },
        {
         "hovertemplate": "State/UTs=Dadra and Nagar Haveli and Daman and Diu<br>Total Cases=%{x}<br>Active=%{y}<br>Deaths=%{marker.size}<extra></extra>",
         "legendgroup": "Dadra and Nagar Haveli and Daman and Diu",
         "marker": {
          "color": "#B6E880",
          "size": [
           4
          ],
          "sizemode": "area",
          "sizeref": 85.221875,
          "symbol": "circle"
         },
         "mode": "markers",
         "name": "Dadra and Nagar Haveli and Daman and Diu",
         "orientation": "v",
         "showlegend": true,
         "type": "scatter",
         "x": [
          10659
         ],
         "xaxis": "x",
         "y": [
          4
         ],
         "yaxis": "y"
        },
        {
         "hovertemplate": "State/UTs=Delhi<br>Total Cases=%{x}<br>Active=%{y}<br>Deaths=%{marker.size}<extra></extra>",
         "legendgroup": "Delhi",
         "marker": {
          "color": "#FF97FF",
          "size": [
           25079
          ],
          "sizemode": "area",
          "sizeref": 85.221875,
          "symbol": "circle"
         },
         "mode": "markers",
         "name": "Delhi",
         "orientation": "v",
         "showlegend": true,
         "type": "scatter",
         "x": [
          1437485
         ],
         "xaxis": "x",
         "y": [
          411
         ],
         "yaxis": "y"
        },
        {
         "hovertemplate": "State/UTs=Goa<br>Total Cases=%{x}<br>Active=%{y}<br>Deaths=%{marker.size}<extra></extra>",
         "legendgroup": "Goa",
         "marker": {
          "color": "#FECB52",
          "size": [
           3186
          ],
          "sizemode": "area",
          "sizeref": 85.221875,
          "symbol": "circle"
         },
         "mode": "markers",
         "name": "Goa",
         "orientation": "v",
         "showlegend": true,
         "type": "scatter",
         "x": [
          173357
         ],
         "xaxis": "x",
         "y": [
          932
         ],
         "yaxis": "y"
        },
        {
         "hovertemplate": "State/UTs=Gujarat<br>Total Cases=%{x}<br>Active=%{y}<br>Deaths=%{marker.size}<extra></extra>",
         "legendgroup": "Gujarat",
         "marker": {
          "color": "#636efa",
          "size": [
           10079
          ],
          "sizemode": "area",
          "sizeref": 85.221875,
          "symbol": "circle"
         },
         "mode": "markers",
         "name": "Gujarat",
         "orientation": "v",
         "showlegend": true,
         "type": "scatter",
         "x": [
          825330
         ],
         "xaxis": "x",
         "y": [
          160
         ],
         "yaxis": "y"
        },
        {
         "hovertemplate": "State/UTs=Haryana<br>Total Cases=%{x}<br>Active=%{y}<br>Deaths=%{marker.size}<extra></extra>",
         "legendgroup": "Haryana",
         "marker": {
          "color": "#EF553B",
          "size": [
           9669
          ],
          "sizemode": "area",
          "sizeref": 85.221875,
          "symbol": "circle"
         },
         "mode": "markers",
         "name": "Haryana",
         "orientation": "v",
         "showlegend": true,
         "type": "scatter",
         "x": [
          770380
         ],
         "xaxis": "x",
         "y": [
          664
         ],
         "yaxis": "y"
        },
        {
         "hovertemplate": "State/UTs=Himachal Pradesh<br>Total Cases=%{x}<br>Active=%{y}<br>Deaths=%{marker.size}<extra></extra>",
         "legendgroup": "Himachal Pradesh",
         "marker": {
          "color": "#00cc96",
          "size": [
           3578
          ],
          "sizemode": "area",
          "sizeref": 85.221875,
          "symbol": "circle"
         },
         "mode": "markers",
         "name": "Himachal Pradesh",
         "orientation": "v",
         "showlegend": true,
         "type": "scatter",
         "x": [
          212260
         ],
         "xaxis": "x",
         "y": [
          2054
         ],
         "yaxis": "y"
        },
        {
         "hovertemplate": "State/UTs=Jammu and Kashmir<br>Total Cases=%{x}<br>Active=%{y}<br>Deaths=%{marker.size}<extra></extra>",
         "legendgroup": "Jammu and Kashmir",
         "marker": {
          "color": "#ab63fa",
          "size": [
           4404
          ],
          "sizemode": "area",
          "sizeref": 85.221875,
          "symbol": "circle"
         },
         "mode": "markers",
         "name": "Jammu and Kashmir",
         "orientation": "v",
         "showlegend": true,
         "type": "scatter",
         "x": [
          324420
         ],
         "xaxis": "x",
         "y": [
          1055
         ],
         "yaxis": "y"
        },
        {
         "hovertemplate": "State/UTs=Jharkhand<br>Total Cases=%{x}<br>Active=%{y}<br>Deaths=%{marker.size}<extra></extra>",
         "legendgroup": "Jharkhand",
         "marker": {
          "color": "#FFA15A",
          "size": [
           5132
          ],
          "sizemode": "area",
          "sizeref": 85.221875,
          "symbol": "circle"
         },
         "mode": "markers",
         "name": "Jharkhand",
         "orientation": "v",
         "showlegend": true,
         "type": "scatter",
         "x": [
          347755
         ],
         "xaxis": "x",
         "y": [
          153
         ],
         "yaxis": "y"
        },
        {
         "hovertemplate": "State/UTs=Karnataka<br>Total Cases=%{x}<br>Active=%{y}<br>Deaths=%{marker.size}<extra></extra>",
         "legendgroup": "Karnataka",
         "marker": {
          "color": "#19d3f3",
          "size": [
           37184
          ],
          "sizemode": "area",
          "sizeref": 85.221875,
          "symbol": "circle"
         },
         "mode": "markers",
         "name": "Karnataka",
         "orientation": "v",
         "showlegend": true,
         "type": "scatter",
         "x": [
          2941026
         ],
         "xaxis": "x",
         "y": [
          19810
         ],
         "yaxis": "y"
        },
        {
         "hovertemplate": "State/UTs=Kerala<br>Total Cases=%{x}<br>Active=%{y}<br>Deaths=%{marker.size}<extra></extra>",
         "legendgroup": "Kerala",
         "marker": {
          "color": "#FF6692",
          "size": [
           19757
          ],
          "sizemode": "area",
          "sizeref": 85.221875,
          "symbol": "circle"
         },
         "mode": "markers",
         "name": "Kerala",
         "orientation": "v",
         "showlegend": true,
         "type": "scatter",
         "x": [
          3851984
         ],
         "xaxis": "x",
         "y": [
          159870
         ],
         "yaxis": "y"
        },
        {
         "hovertemplate": "State/UTs=Ladakh<br>Total Cases=%{x}<br>Active=%{y}<br>Deaths=%{marker.size}<extra></extra>",
         "legendgroup": "Ladakh",
         "marker": {
          "color": "#B6E880",
          "size": [
           207
          ],
          "sizemode": "area",
          "sizeref": 85.221875,
          "symbol": "circle"
         },
         "mode": "markers",
         "name": "Ladakh",
         "orientation": "v",
         "showlegend": true,
         "type": "scatter",
         "x": [
          20500
         ],
         "xaxis": "x",
         "y": [
          55
         ],
         "yaxis": "y"
        },
        {
         "hovertemplate": "State/UTs=Lakshadweep<br>Total Cases=%{x}<br>Active=%{y}<br>Deaths=%{marker.size}<extra></extra>",
         "legendgroup": "Lakshadweep",
         "marker": {
          "color": "#FF97FF",
          "size": [
           51
          ],
          "sizemode": "area",
          "sizeref": 85.221875,
          "symbol": "circle"
         },
         "mode": "markers",
         "name": "Lakshadweep",
         "orientation": "v",
         "showlegend": true,
         "type": "scatter",
         "x": [
          10318
         ],
         "xaxis": "x",
         "y": [
          28
         ],
         "yaxis": "y"
        },
        {
         "hovertemplate": "State/UTs=Madhya Pradesh<br>Total Cases=%{x}<br>Active=%{y}<br>Deaths=%{marker.size}<extra></extra>",
         "legendgroup": "Madhya Pradesh",
         "marker": {
          "color": "#FECB52",
          "size": [
           10516
          ],
          "sizemode": "area",
          "sizeref": 85.221875,
          "symbol": "circle"
         },
         "mode": "markers",
         "name": "Madhya Pradesh",
         "orientation": "v",
         "showlegend": true,
         "type": "scatter",
         "x": [
          792109
         ],
         "xaxis": "x",
         "y": [
          84
         ],
         "yaxis": "y"
        },
        {
         "hovertemplate": "State/UTs=Maharashtra<br>Total Cases=%{x}<br>Active=%{y}<br>Deaths=%{marker.size}<extra></extra>",
         "legendgroup": "Maharashtra",
         "marker": {
          "color": "#636efa",
          "size": [
           136355
          ],
          "sizemode": "area",
          "sizeref": 85.221875,
          "symbol": "circle"
         },
         "mode": "markers",
         "name": "Maharashtra",
         "orientation": "v",
         "showlegend": true,
         "type": "scatter",
         "x": [
          6432649
         ],
         "xaxis": "x",
         "y": [
          53260
         ],
         "yaxis": "y"
        },
        {
         "hovertemplate": "State/UTs=Manipur<br>Total Cases=%{x}<br>Active=%{y}<br>Deaths=%{marker.size}<extra></extra>",
         "legendgroup": "Manipur",
         "marker": {
          "color": "#EF553B",
          "size": [
           1759
          ],
          "sizemode": "area",
          "sizeref": 85.221875,
          "symbol": "circle"
         },
         "mode": "markers",
         "name": "Manipur",
         "orientation": "v",
         "showlegend": true,
         "type": "scatter",
         "x": [
          111598
         ],
         "xaxis": "x",
         "y": [
          3610
         ],
         "yaxis": "y"
        },
        {
         "hovertemplate": "State/UTs=Meghalaya<br>Total Cases=%{x}<br>Active=%{y}<br>Deaths=%{marker.size}<extra></extra>",
         "legendgroup": "Meghalaya",
         "marker": {
          "color": "#00cc96",
          "size": [
           1285
          ],
          "sizemode": "area",
          "sizeref": 85.221875,
          "symbol": "circle"
         },
         "mode": "markers",
         "name": "Meghalaya",
         "orientation": "v",
         "showlegend": true,
         "type": "scatter",
         "x": [
          74232
         ],
         "xaxis": "x",
         "y": [
          2820
         ],
         "yaxis": "y"
        },
        {
         "hovertemplate": "State/UTs=Mizoram<br>Total Cases=%{x}<br>Active=%{y}<br>Deaths=%{marker.size}<extra></extra>",
         "legendgroup": "Mizoram",
         "marker": {
          "color": "#ab63fa",
          "size": [
           201
          ],
          "sizemode": "area",
          "sizeref": 85.221875,
          "symbol": "circle"
         },
         "mode": "markers",
         "name": "Mizoram",
         "orientation": "v",
         "showlegend": true,
         "type": "scatter",
         "x": [
          54057
         ],
         "xaxis": "x",
         "y": [
          6664
         ],
         "yaxis": "y"
        },
        {
         "hovertemplate": "State/UTs=Nagaland<br>Total Cases=%{x}<br>Active=%{y}<br>Deaths=%{marker.size}<extra></extra>",
         "legendgroup": "Nagaland",
         "marker": {
          "color": "#FFA15A",
          "size": [
           611
          ],
          "sizemode": "area",
          "sizeref": 85.221875,
          "symbol": "circle"
         },
         "mode": "markers",
         "name": "Nagaland",
         "orientation": "v",
         "showlegend": true,
         "type": "scatter",
         "x": [
          29669
         ],
         "xaxis": "x",
         "y": [
          888
         ],
         "yaxis": "y"
        },
        {
         "hovertemplate": "State/UTs=Odisha<br>Total Cases=%{x}<br>Active=%{y}<br>Deaths=%{marker.size}<extra></extra>",
         "legendgroup": "Odisha",
         "marker": {
          "color": "#19d3f3",
          "size": [
           7493
          ],
          "sizemode": "area",
          "sizeref": 85.221875,
          "symbol": "circle"
         },
         "mode": "markers",
         "name": "Odisha",
         "orientation": "v",
         "showlegend": true,
         "type": "scatter",
         "x": [
          1002323
         ],
         "xaxis": "x",
         "y": [
          7461
         ],
         "yaxis": "y"
        },
        {
         "hovertemplate": "State/UTs=Puducherry<br>Total Cases=%{x}<br>Active=%{y}<br>Deaths=%{marker.size}<extra></extra>",
         "legendgroup": "Puducherry",
         "marker": {
          "color": "#FF6692",
          "size": [
           1809
          ],
          "sizemode": "area",
          "sizeref": 85.221875,
          "symbol": "circle"
         },
         "mode": "markers",
         "name": "Puducherry",
         "orientation": "v",
         "showlegend": true,
         "type": "scatter",
         "x": [
          123007
         ],
         "xaxis": "x",
         "y": [
          765
         ],
         "yaxis": "y"
        },
        {
         "hovertemplate": "State/UTs=Punjab<br>Total Cases=%{x}<br>Active=%{y}<br>Deaths=%{marker.size}<extra></extra>",
         "legendgroup": "Punjab",
         "marker": {
          "color": "#B6E880",
          "size": [
           16355
          ],
          "sizemode": "area",
          "sizeref": 85.221875,
          "symbol": "circle"
         },
         "mode": "markers",
         "name": "Punjab",
         "orientation": "v",
         "showlegend": true,
         "type": "scatter",
         "x": [
          600342
         ],
         "xaxis": "x",
         "y": [
          423
         ],
         "yaxis": "y"
        },
        {
         "hovertemplate": "State/UTs=Rajasthan<br>Total Cases=%{x}<br>Active=%{y}<br>Deaths=%{marker.size}<extra></extra>",
         "legendgroup": "Rajasthan",
         "marker": {
          "color": "#FF97FF",
          "size": [
           8954
          ],
          "sizemode": "area",
          "sizeref": 85.221875,
          "symbol": "circle"
         },
         "mode": "markers",
         "name": "Rajasthan",
         "orientation": "v",
         "showlegend": true,
         "type": "scatter",
         "x": [
          954040
         ],
         "xaxis": "x",
         "y": [
          128
         ],
         "yaxis": "y"
        },
        {
         "hovertemplate": "State/UTs=Sikkim<br>Total Cases=%{x}<br>Active=%{y}<br>Deaths=%{marker.size}<extra></extra>",
         "legendgroup": "Sikkim",
         "marker": {
          "color": "#FECB52",
          "size": [
           367
          ],
          "sizemode": "area",
          "sizeref": 85.221875,
          "symbol": "circle"
         },
         "mode": "markers",
         "name": "Sikkim",
         "orientation": "v",
         "showlegend": true,
         "type": "scatter",
         "x": [
          29477
         ],
         "xaxis": "x",
         "y": [
          1548
         ],
         "yaxis": "y"
        },
        {
         "hovertemplate": "State/UTs=Tamil Nadu<br>Total Cases=%{x}<br>Active=%{y}<br>Deaths=%{marker.size}<extra></extra>",
         "legendgroup": "Tamil Nadu",
         "marker": {
          "color": "#636efa",
          "size": [
           34761
          ],
          "sizemode": "area",
          "sizeref": 85.221875,
          "symbol": "circle"
         },
         "mode": "markers",
         "name": "Tamil Nadu",
         "orientation": "v",
         "showlegend": true,
         "type": "scatter",
         "x": [
          2604074
         ],
         "xaxis": "x",
         "y": [
          18603
         ],
         "yaxis": "y"
        },
        {
         "hovertemplate": "State/UTs=Telengana<br>Total Cases=%{x}<br>Active=%{y}<br>Deaths=%{marker.size}<extra></extra>",
         "legendgroup": "Telengana",
         "marker": {
          "color": "#EF553B",
          "size": [
           3862
          ],
          "sizemode": "area",
          "sizeref": 85.221875,
          "symbol": "circle"
         },
         "mode": "markers",
         "name": "Telengana",
         "orientation": "v",
         "showlegend": true,
         "type": "scatter",
         "x": [
          655732
         ],
         "xaxis": "x",
         "y": [
          6276
         ],
         "yaxis": "y"
        },
        {
         "hovertemplate": "State/UTs=Tripura<br>Total Cases=%{x}<br>Active=%{y}<br>Deaths=%{marker.size}<extra></extra>",
         "legendgroup": "Tripura",
         "marker": {
          "color": "#00cc96",
          "size": [
           791
          ],
          "sizemode": "area",
          "sizeref": 85.221875,
          "symbol": "circle"
         },
         "mode": "markers",
         "name": "Tripura",
         "orientation": "v",
         "showlegend": true,
         "type": "scatter",
         "x": [
          82384
         ],
         "xaxis": "x",
         "y": [
          1113
         ],
         "yaxis": "y"
        },
        {
         "hovertemplate": "State/UTs=Uttar Pradesh<br>Total Cases=%{x}<br>Active=%{y}<br>Deaths=%{marker.size}<extra></extra>",
         "legendgroup": "Uttar Pradesh",
         "marker": {
          "color": "#ab63fa",
          "size": [
           22794
          ],
          "sizemode": "area",
          "sizeref": 85.221875,
          "symbol": "circle"
         },
         "mode": "markers",
         "name": "Uttar Pradesh",
         "orientation": "v",
         "showlegend": true,
         "type": "scatter",
         "x": [
          1709152
         ],
         "xaxis": "x",
         "y": [
          352
         ],
         "yaxis": "y"
        },
        {
         "hovertemplate": "State/UTs=Uttarakhand<br>Total Cases=%{x}<br>Active=%{y}<br>Deaths=%{marker.size}<extra></extra>",
         "legendgroup": "Uttarakhand",
         "marker": {
          "color": "#FFA15A",
          "size": [
           7377
          ],
          "sizemode": "area",
          "sizeref": 85.221875,
          "symbol": "circle"
         },
         "mode": "markers",
         "name": "Uttarakhand",
         "orientation": "v",
         "showlegend": true,
         "type": "scatter",
         "x": [
          342786
         ],
         "xaxis": "x",
         "y": [
          310
         ],
         "yaxis": "y"
        },
        {
         "hovertemplate": "State/UTs=West Bengal<br>Total Cases=%{x}<br>Active=%{y}<br>Deaths=%{marker.size}<extra></extra>",
         "legendgroup": "West Bengal",
         "marker": {
          "color": "#19d3f3",
          "size": [
           18383
          ],
          "sizemode": "area",
          "sizeref": 85.221875,
          "symbol": "circle"
         },
         "mode": "markers",
         "name": "West Bengal",
         "orientation": "v",
         "showlegend": true,
         "type": "scatter",
         "x": [
          1544109
         ],
         "xaxis": "x",
         "y": [
          9217
         ],
         "yaxis": "y"
        }
       ],
       "layout": {
        "legend": {
         "itemsizing": "constant",
         "title": {
          "text": "State/UTs"
         },
         "tracegroupgap": 0
        },
        "margin": {
         "t": 60
        },
        "template": {
         "data": {
          "bar": [
           {
            "error_x": {
             "color": "#2a3f5f"
            },
            "error_y": {
             "color": "#2a3f5f"
            },
            "marker": {
             "line": {
              "color": "#E5ECF6",
              "width": 0.5
             },
             "pattern": {
              "fillmode": "overlay",
              "size": 10,
              "solidity": 0.2
             }
            },
            "type": "bar"
           }
          ],
          "barpolar": [
           {
            "marker": {
             "line": {
              "color": "#E5ECF6",
              "width": 0.5
             },
             "pattern": {
              "fillmode": "overlay",
              "size": 10,
              "solidity": 0.2
             }
            },
            "type": "barpolar"
           }
          ],
          "carpet": [
           {
            "aaxis": {
             "endlinecolor": "#2a3f5f",
             "gridcolor": "white",
             "linecolor": "white",
             "minorgridcolor": "white",
             "startlinecolor": "#2a3f5f"
            },
            "baxis": {
             "endlinecolor": "#2a3f5f",
             "gridcolor": "white",
             "linecolor": "white",
             "minorgridcolor": "white",
             "startlinecolor": "#2a3f5f"
            },
            "type": "carpet"
           }
          ],
          "choropleth": [
           {
            "colorbar": {
             "outlinewidth": 0,
             "ticks": ""
            },
            "type": "choropleth"
           }
          ],
          "contour": [
           {
            "colorbar": {
             "outlinewidth": 0,
             "ticks": ""
            },
            "colorscale": [
             [
              0,
              "#0d0887"
             ],
             [
              0.1111111111111111,
              "#46039f"
             ],
             [
              0.2222222222222222,
              "#7201a8"
             ],
             [
              0.3333333333333333,
              "#9c179e"
             ],
             [
              0.4444444444444444,
              "#bd3786"
             ],
             [
              0.5555555555555556,
              "#d8576b"
             ],
             [
              0.6666666666666666,
              "#ed7953"
             ],
             [
              0.7777777777777778,
              "#fb9f3a"
             ],
             [
              0.8888888888888888,
              "#fdca26"
             ],
             [
              1,
              "#f0f921"
             ]
            ],
            "type": "contour"
           }
          ],
          "contourcarpet": [
           {
            "colorbar": {
             "outlinewidth": 0,
             "ticks": ""
            },
            "type": "contourcarpet"
           }
          ],
          "heatmap": [
           {
            "colorbar": {
             "outlinewidth": 0,
             "ticks": ""
            },
            "colorscale": [
             [
              0,
              "#0d0887"
             ],
             [
              0.1111111111111111,
              "#46039f"
             ],
             [
              0.2222222222222222,
              "#7201a8"
             ],
             [
              0.3333333333333333,
              "#9c179e"
             ],
             [
              0.4444444444444444,
              "#bd3786"
             ],
             [
              0.5555555555555556,
              "#d8576b"
             ],
             [
              0.6666666666666666,
              "#ed7953"
             ],
             [
              0.7777777777777778,
              "#fb9f3a"
             ],
             [
              0.8888888888888888,
              "#fdca26"
             ],
             [
              1,
              "#f0f921"
             ]
            ],
            "type": "heatmap"
           }
          ],
          "heatmapgl": [
           {
            "colorbar": {
             "outlinewidth": 0,
             "ticks": ""
            },
            "colorscale": [
             [
              0,
              "#0d0887"
             ],
             [
              0.1111111111111111,
              "#46039f"
             ],
             [
              0.2222222222222222,
              "#7201a8"
             ],
             [
              0.3333333333333333,
              "#9c179e"
             ],
             [
              0.4444444444444444,
              "#bd3786"
             ],
             [
              0.5555555555555556,
              "#d8576b"
             ],
             [
              0.6666666666666666,
              "#ed7953"
             ],
             [
              0.7777777777777778,
              "#fb9f3a"
             ],
             [
              0.8888888888888888,
              "#fdca26"
             ],
             [
              1,
              "#f0f921"
             ]
            ],
            "type": "heatmapgl"
           }
          ],
          "histogram": [
           {
            "marker": {
             "pattern": {
              "fillmode": "overlay",
              "size": 10,
              "solidity": 0.2
             }
            },
            "type": "histogram"
           }
          ],
          "histogram2d": [
           {
            "colorbar": {
             "outlinewidth": 0,
             "ticks": ""
            },
            "colorscale": [
             [
              0,
              "#0d0887"
             ],
             [
              0.1111111111111111,
              "#46039f"
             ],
             [
              0.2222222222222222,
              "#7201a8"
             ],
             [
              0.3333333333333333,
              "#9c179e"
             ],
             [
              0.4444444444444444,
              "#bd3786"
             ],
             [
              0.5555555555555556,
              "#d8576b"
             ],
             [
              0.6666666666666666,
              "#ed7953"
             ],
             [
              0.7777777777777778,
              "#fb9f3a"
             ],
             [
              0.8888888888888888,
              "#fdca26"
             ],
             [
              1,
              "#f0f921"
             ]
            ],
            "type": "histogram2d"
           }
          ],
          "histogram2dcontour": [
           {
            "colorbar": {
             "outlinewidth": 0,
             "ticks": ""
            },
            "colorscale": [
             [
              0,
              "#0d0887"
             ],
             [
              0.1111111111111111,
              "#46039f"
             ],
             [
              0.2222222222222222,
              "#7201a8"
             ],
             [
              0.3333333333333333,
              "#9c179e"
             ],
             [
              0.4444444444444444,
              "#bd3786"
             ],
             [
              0.5555555555555556,
              "#d8576b"
             ],
             [
              0.6666666666666666,
              "#ed7953"
             ],
             [
              0.7777777777777778,
              "#fb9f3a"
             ],
             [
              0.8888888888888888,
              "#fdca26"
             ],
             [
              1,
              "#f0f921"
             ]
            ],
            "type": "histogram2dcontour"
           }
          ],
          "mesh3d": [
           {
            "colorbar": {
             "outlinewidth": 0,
             "ticks": ""
            },
            "type": "mesh3d"
           }
          ],
          "parcoords": [
           {
            "line": {
             "colorbar": {
              "outlinewidth": 0,
              "ticks": ""
             }
            },
            "type": "parcoords"
           }
          ],
          "pie": [
           {
            "automargin": true,
            "type": "pie"
           }
          ],
          "scatter": [
           {
            "marker": {
             "colorbar": {
              "outlinewidth": 0,
              "ticks": ""
             }
            },
            "type": "scatter"
           }
          ],
          "scatter3d": [
           {
            "line": {
             "colorbar": {
              "outlinewidth": 0,
              "ticks": ""
             }
            },
            "marker": {
             "colorbar": {
              "outlinewidth": 0,
              "ticks": ""
             }
            },
            "type": "scatter3d"
           }
          ],
          "scattercarpet": [
           {
            "marker": {
             "colorbar": {
              "outlinewidth": 0,
              "ticks": ""
             }
            },
            "type": "scattercarpet"
           }
          ],
          "scattergeo": [
           {
            "marker": {
             "colorbar": {
              "outlinewidth": 0,
              "ticks": ""
             }
            },
            "type": "scattergeo"
           }
          ],
          "scattergl": [
           {
            "marker": {
             "colorbar": {
              "outlinewidth": 0,
              "ticks": ""
             }
            },
            "type": "scattergl"
           }
          ],
          "scattermapbox": [
           {
            "marker": {
             "colorbar": {
              "outlinewidth": 0,
              "ticks": ""
             }
            },
            "type": "scattermapbox"
           }
          ],
          "scatterpolar": [
           {
            "marker": {
             "colorbar": {
              "outlinewidth": 0,
              "ticks": ""
             }
            },
            "type": "scatterpolar"
           }
          ],
          "scatterpolargl": [
           {
            "marker": {
             "colorbar": {
              "outlinewidth": 0,
              "ticks": ""
             }
            },
            "type": "scatterpolargl"
           }
          ],
          "scatterternary": [
           {
            "marker": {
             "colorbar": {
              "outlinewidth": 0,
              "ticks": ""
             }
            },
            "type": "scatterternary"
           }
          ],
          "surface": [
           {
            "colorbar": {
             "outlinewidth": 0,
             "ticks": ""
            },
            "colorscale": [
             [
              0,
              "#0d0887"
             ],
             [
              0.1111111111111111,
              "#46039f"
             ],
             [
              0.2222222222222222,
              "#7201a8"
             ],
             [
              0.3333333333333333,
              "#9c179e"
             ],
             [
              0.4444444444444444,
              "#bd3786"
             ],
             [
              0.5555555555555556,
              "#d8576b"
             ],
             [
              0.6666666666666666,
              "#ed7953"
             ],
             [
              0.7777777777777778,
              "#fb9f3a"
             ],
             [
              0.8888888888888888,
              "#fdca26"
             ],
             [
              1,
              "#f0f921"
             ]
            ],
            "type": "surface"
           }
          ],
          "table": [
           {
            "cells": {
             "fill": {
              "color": "#EBF0F8"
             },
             "line": {
              "color": "white"
             }
            },
            "header": {
             "fill": {
              "color": "#C8D4E3"
             },
             "line": {
              "color": "white"
             }
            },
            "type": "table"
           }
          ]
         },
         "layout": {
          "annotationdefaults": {
           "arrowcolor": "#2a3f5f",
           "arrowhead": 0,
           "arrowwidth": 1
          },
          "autotypenumbers": "strict",
          "coloraxis": {
           "colorbar": {
            "outlinewidth": 0,
            "ticks": ""
           }
          },
          "colorscale": {
           "diverging": [
            [
             0,
             "#8e0152"
            ],
            [
             0.1,
             "#c51b7d"
            ],
            [
             0.2,
             "#de77ae"
            ],
            [
             0.3,
             "#f1b6da"
            ],
            [
             0.4,
             "#fde0ef"
            ],
            [
             0.5,
             "#f7f7f7"
            ],
            [
             0.6,
             "#e6f5d0"
            ],
            [
             0.7,
             "#b8e186"
            ],
            [
             0.8,
             "#7fbc41"
            ],
            [
             0.9,
             "#4d9221"
            ],
            [
             1,
             "#276419"
            ]
           ],
           "sequential": [
            [
             0,
             "#0d0887"
            ],
            [
             0.1111111111111111,
             "#46039f"
            ],
            [
             0.2222222222222222,
             "#7201a8"
            ],
            [
             0.3333333333333333,
             "#9c179e"
            ],
            [
             0.4444444444444444,
             "#bd3786"
            ],
            [
             0.5555555555555556,
             "#d8576b"
            ],
            [
             0.6666666666666666,
             "#ed7953"
            ],
            [
             0.7777777777777778,
             "#fb9f3a"
            ],
            [
             0.8888888888888888,
             "#fdca26"
            ],
            [
             1,
             "#f0f921"
            ]
           ],
           "sequentialminus": [
            [
             0,
             "#0d0887"
            ],
            [
             0.1111111111111111,
             "#46039f"
            ],
            [
             0.2222222222222222,
             "#7201a8"
            ],
            [
             0.3333333333333333,
             "#9c179e"
            ],
            [
             0.4444444444444444,
             "#bd3786"
            ],
            [
             0.5555555555555556,
             "#d8576b"
            ],
            [
             0.6666666666666666,
             "#ed7953"
            ],
            [
             0.7777777777777778,
             "#fb9f3a"
            ],
            [
             0.8888888888888888,
             "#fdca26"
            ],
            [
             1,
             "#f0f921"
            ]
           ]
          },
          "colorway": [
           "#636efa",
           "#EF553B",
           "#00cc96",
           "#ab63fa",
           "#FFA15A",
           "#19d3f3",
           "#FF6692",
           "#B6E880",
           "#FF97FF",
           "#FECB52"
          ],
          "font": {
           "color": "#2a3f5f"
          },
          "geo": {
           "bgcolor": "white",
           "lakecolor": "white",
           "landcolor": "#E5ECF6",
           "showlakes": true,
           "showland": true,
           "subunitcolor": "white"
          },
          "hoverlabel": {
           "align": "left"
          },
          "hovermode": "closest",
          "mapbox": {
           "style": "light"
          },
          "paper_bgcolor": "white",
          "plot_bgcolor": "#E5ECF6",
          "polar": {
           "angularaxis": {
            "gridcolor": "white",
            "linecolor": "white",
            "ticks": ""
           },
           "bgcolor": "#E5ECF6",
           "radialaxis": {
            "gridcolor": "white",
            "linecolor": "white",
            "ticks": ""
           }
          },
          "scene": {
           "xaxis": {
            "backgroundcolor": "#E5ECF6",
            "gridcolor": "white",
            "gridwidth": 2,
            "linecolor": "white",
            "showbackground": true,
            "ticks": "",
            "zerolinecolor": "white"
           },
           "yaxis": {
            "backgroundcolor": "#E5ECF6",
            "gridcolor": "white",
            "gridwidth": 2,
            "linecolor": "white",
            "showbackground": true,
            "ticks": "",
            "zerolinecolor": "white"
           },
           "zaxis": {
            "backgroundcolor": "#E5ECF6",
            "gridcolor": "white",
            "gridwidth": 2,
            "linecolor": "white",
            "showbackground": true,
            "ticks": "",
            "zerolinecolor": "white"
           }
          },
          "shapedefaults": {
           "line": {
            "color": "#2a3f5f"
           }
          },
          "ternary": {
           "aaxis": {
            "gridcolor": "white",
            "linecolor": "white",
            "ticks": ""
           },
           "baxis": {
            "gridcolor": "white",
            "linecolor": "white",
            "ticks": ""
           },
           "bgcolor": "#E5ECF6",
           "caxis": {
            "gridcolor": "white",
            "linecolor": "white",
            "ticks": ""
           }
          },
          "title": {
           "x": 0.05
          },
          "xaxis": {
           "automargin": true,
           "gridcolor": "white",
           "linecolor": "white",
           "ticks": "",
           "title": {
            "standoff": 15
           },
           "zerolinecolor": "white",
           "zerolinewidth": 2
          },
          "yaxis": {
           "automargin": true,
           "gridcolor": "white",
           "linecolor": "white",
           "ticks": "",
           "title": {
            "standoff": 15
           },
           "zerolinecolor": "white",
           "zerolinewidth": 2
          }
         }
        },
        "xaxis": {
         "anchor": "y",
         "domain": [
          0,
          1
         ],
         "title": {
          "text": "Total Cases"
         }
        },
        "yaxis": {
         "anchor": "x",
         "domain": [
          0,
          1
         ],
         "title": {
          "text": "Active"
         }
        }
       }
      },
      "text/html": [
       "<div>                            <div id=\"fa166ea2-70d4-49ae-871e-9d20b5d311b5\" class=\"plotly-graph-div\" style=\"height:525px; width:100%;\"></div>            <script type=\"text/javascript\">                require([\"plotly\"], function(Plotly) {                    window.PLOTLYENV=window.PLOTLYENV || {};                                    if (document.getElementById(\"fa166ea2-70d4-49ae-871e-9d20b5d311b5\")) {                    Plotly.newPlot(                        \"fa166ea2-70d4-49ae-871e-9d20b5d311b5\",                        [{\"hovertemplate\":\"State/UTs=Andaman and Nicobar<br>Total Cases=%{x}<br>Active=%{y}<br>Deaths=%{marker.size}<extra></extra>\",\"legendgroup\":\"Andaman and Nicobar\",\"marker\":{\"color\":\"#636efa\",\"size\":[129],\"sizemode\":\"area\",\"sizeref\":85.221875,\"symbol\":\"circle\"},\"mode\":\"markers\",\"name\":\"Andaman and Nicobar\",\"orientation\":\"v\",\"showlegend\":true,\"type\":\"scatter\",\"x\":[7560],\"xaxis\":\"x\",\"y\":[10],\"yaxis\":\"y\"},{\"hovertemplate\":\"State/UTs=Andhra Pradesh<br>Total Cases=%{x}<br>Active=%{y}<br>Deaths=%{marker.size}<extra></extra>\",\"legendgroup\":\"Andhra Pradesh\",\"marker\":{\"color\":\"#EF553B\",\"size\":[13750],\"sizemode\":\"area\",\"sizeref\":85.221875,\"symbol\":\"circle\"},\"mode\":\"markers\",\"name\":\"Andhra Pradesh\",\"orientation\":\"v\",\"showlegend\":true,\"type\":\"scatter\",\"x\":[2004590],\"xaxis\":\"x\",\"y\":[13677],\"yaxis\":\"y\"},{\"hovertemplate\":\"State/UTs=Arunachal Pradesh<br>Total Cases=%{x}<br>Active=%{y}<br>Deaths=%{marker.size}<extra></extra>\",\"legendgroup\":\"Arunachal Pradesh\",\"marker\":{\"color\":\"#00cc96\",\"size\":[259],\"sizemode\":\"area\",\"sizeref\":85.221875,\"symbol\":\"circle\"},\"mode\":\"markers\",\"name\":\"Arunachal Pradesh\",\"orientation\":\"v\",\"showlegend\":true,\"type\":\"scatter\",\"x\":[52409],\"xaxis\":\"x\",\"y\":[1127],\"yaxis\":\"y\"},{\"hovertemplate\":\"State/UTs=Assam<br>Total Cases=%{x}<br>Active=%{y}<br>Deaths=%{marker.size}<extra></extra>\",\"legendgroup\":\"Assam\",\"marker\":{\"color\":\"#ab63fa\",\"size\":[5600],\"sizemode\":\"area\",\"sizeref\":85.221875,\"symbol\":\"circle\"},\"mode\":\"markers\",\"name\":\"Assam\",\"orientation\":\"v\",\"showlegend\":true,\"type\":\"scatter\",\"x\":[585689],\"xaxis\":\"x\",\"y\":[8005],\"yaxis\":\"y\"},{\"hovertemplate\":\"State/UTs=Bihar<br>Total Cases=%{x}<br>Active=%{y}<br>Deaths=%{marker.size}<extra></extra>\",\"legendgroup\":\"Bihar\",\"marker\":{\"color\":\"#FFA15A\",\"size\":[9650],\"sizemode\":\"area\",\"sizeref\":85.221875,\"symbol\":\"circle\"},\"mode\":\"markers\",\"name\":\"Bihar\",\"orientation\":\"v\",\"showlegend\":true,\"type\":\"scatter\",\"x\":[725605],\"xaxis\":\"x\",\"y\":[102],\"yaxis\":\"y\"},{\"hovertemplate\":\"State/UTs=Chandigarh<br>Total Cases=%{x}<br>Active=%{y}<br>Deaths=%{marker.size}<extra></extra>\",\"legendgroup\":\"Chandigarh\",\"marker\":{\"color\":\"#19d3f3\",\"size\":[812],\"sizemode\":\"area\",\"sizeref\":85.221875,\"symbol\":\"circle\"},\"mode\":\"markers\",\"name\":\"Chandigarh\",\"orientation\":\"v\",\"showlegend\":true,\"type\":\"scatter\",\"x\":[65069],\"xaxis\":\"x\",\"y\":[35],\"yaxis\":\"y\"},{\"hovertemplate\":\"State/UTs=Chhattisgarh<br>Total Cases=%{x}<br>Active=%{y}<br>Deaths=%{marker.size}<extra></extra>\",\"legendgroup\":\"Chhattisgarh\",\"marker\":{\"color\":\"#FF6692\",\"size\":[13555],\"sizemode\":\"area\",\"sizeref\":85.221875,\"symbol\":\"circle\"},\"mode\":\"markers\",\"name\":\"Chhattisgarh\",\"orientation\":\"v\",\"showlegend\":true,\"type\":\"scatter\",\"x\":[1004230],\"xaxis\":\"x\",\"y\":[653],\"yaxis\":\"y\"},{\"hovertemplate\":\"State/UTs=Dadra and Nagar Haveli and Daman and Diu<br>Total Cases=%{x}<br>Active=%{y}<br>Deaths=%{marker.size}<extra></extra>\",\"legendgroup\":\"Dadra and Nagar Haveli and Daman and Diu\",\"marker\":{\"color\":\"#B6E880\",\"size\":[4],\"sizemode\":\"area\",\"sizeref\":85.221875,\"symbol\":\"circle\"},\"mode\":\"markers\",\"name\":\"Dadra and Nagar Haveli and Daman and Diu\",\"orientation\":\"v\",\"showlegend\":true,\"type\":\"scatter\",\"x\":[10659],\"xaxis\":\"x\",\"y\":[4],\"yaxis\":\"y\"},{\"hovertemplate\":\"State/UTs=Delhi<br>Total Cases=%{x}<br>Active=%{y}<br>Deaths=%{marker.size}<extra></extra>\",\"legendgroup\":\"Delhi\",\"marker\":{\"color\":\"#FF97FF\",\"size\":[25079],\"sizemode\":\"area\",\"sizeref\":85.221875,\"symbol\":\"circle\"},\"mode\":\"markers\",\"name\":\"Delhi\",\"orientation\":\"v\",\"showlegend\":true,\"type\":\"scatter\",\"x\":[1437485],\"xaxis\":\"x\",\"y\":[411],\"yaxis\":\"y\"},{\"hovertemplate\":\"State/UTs=Goa<br>Total Cases=%{x}<br>Active=%{y}<br>Deaths=%{marker.size}<extra></extra>\",\"legendgroup\":\"Goa\",\"marker\":{\"color\":\"#FECB52\",\"size\":[3186],\"sizemode\":\"area\",\"sizeref\":85.221875,\"symbol\":\"circle\"},\"mode\":\"markers\",\"name\":\"Goa\",\"orientation\":\"v\",\"showlegend\":true,\"type\":\"scatter\",\"x\":[173357],\"xaxis\":\"x\",\"y\":[932],\"yaxis\":\"y\"},{\"hovertemplate\":\"State/UTs=Gujarat<br>Total Cases=%{x}<br>Active=%{y}<br>Deaths=%{marker.size}<extra></extra>\",\"legendgroup\":\"Gujarat\",\"marker\":{\"color\":\"#636efa\",\"size\":[10079],\"sizemode\":\"area\",\"sizeref\":85.221875,\"symbol\":\"circle\"},\"mode\":\"markers\",\"name\":\"Gujarat\",\"orientation\":\"v\",\"showlegend\":true,\"type\":\"scatter\",\"x\":[825330],\"xaxis\":\"x\",\"y\":[160],\"yaxis\":\"y\"},{\"hovertemplate\":\"State/UTs=Haryana<br>Total Cases=%{x}<br>Active=%{y}<br>Deaths=%{marker.size}<extra></extra>\",\"legendgroup\":\"Haryana\",\"marker\":{\"color\":\"#EF553B\",\"size\":[9669],\"sizemode\":\"area\",\"sizeref\":85.221875,\"symbol\":\"circle\"},\"mode\":\"markers\",\"name\":\"Haryana\",\"orientation\":\"v\",\"showlegend\":true,\"type\":\"scatter\",\"x\":[770380],\"xaxis\":\"x\",\"y\":[664],\"yaxis\":\"y\"},{\"hovertemplate\":\"State/UTs=Himachal Pradesh<br>Total Cases=%{x}<br>Active=%{y}<br>Deaths=%{marker.size}<extra></extra>\",\"legendgroup\":\"Himachal Pradesh\",\"marker\":{\"color\":\"#00cc96\",\"size\":[3578],\"sizemode\":\"area\",\"sizeref\":85.221875,\"symbol\":\"circle\"},\"mode\":\"markers\",\"name\":\"Himachal Pradesh\",\"orientation\":\"v\",\"showlegend\":true,\"type\":\"scatter\",\"x\":[212260],\"xaxis\":\"x\",\"y\":[2054],\"yaxis\":\"y\"},{\"hovertemplate\":\"State/UTs=Jammu and Kashmir<br>Total Cases=%{x}<br>Active=%{y}<br>Deaths=%{marker.size}<extra></extra>\",\"legendgroup\":\"Jammu and Kashmir\",\"marker\":{\"color\":\"#ab63fa\",\"size\":[4404],\"sizemode\":\"area\",\"sizeref\":85.221875,\"symbol\":\"circle\"},\"mode\":\"markers\",\"name\":\"Jammu and Kashmir\",\"orientation\":\"v\",\"showlegend\":true,\"type\":\"scatter\",\"x\":[324420],\"xaxis\":\"x\",\"y\":[1055],\"yaxis\":\"y\"},{\"hovertemplate\":\"State/UTs=Jharkhand<br>Total Cases=%{x}<br>Active=%{y}<br>Deaths=%{marker.size}<extra></extra>\",\"legendgroup\":\"Jharkhand\",\"marker\":{\"color\":\"#FFA15A\",\"size\":[5132],\"sizemode\":\"area\",\"sizeref\":85.221875,\"symbol\":\"circle\"},\"mode\":\"markers\",\"name\":\"Jharkhand\",\"orientation\":\"v\",\"showlegend\":true,\"type\":\"scatter\",\"x\":[347755],\"xaxis\":\"x\",\"y\":[153],\"yaxis\":\"y\"},{\"hovertemplate\":\"State/UTs=Karnataka<br>Total Cases=%{x}<br>Active=%{y}<br>Deaths=%{marker.size}<extra></extra>\",\"legendgroup\":\"Karnataka\",\"marker\":{\"color\":\"#19d3f3\",\"size\":[37184],\"sizemode\":\"area\",\"sizeref\":85.221875,\"symbol\":\"circle\"},\"mode\":\"markers\",\"name\":\"Karnataka\",\"orientation\":\"v\",\"showlegend\":true,\"type\":\"scatter\",\"x\":[2941026],\"xaxis\":\"x\",\"y\":[19810],\"yaxis\":\"y\"},{\"hovertemplate\":\"State/UTs=Kerala<br>Total Cases=%{x}<br>Active=%{y}<br>Deaths=%{marker.size}<extra></extra>\",\"legendgroup\":\"Kerala\",\"marker\":{\"color\":\"#FF6692\",\"size\":[19757],\"sizemode\":\"area\",\"sizeref\":85.221875,\"symbol\":\"circle\"},\"mode\":\"markers\",\"name\":\"Kerala\",\"orientation\":\"v\",\"showlegend\":true,\"type\":\"scatter\",\"x\":[3851984],\"xaxis\":\"x\",\"y\":[159870],\"yaxis\":\"y\"},{\"hovertemplate\":\"State/UTs=Ladakh<br>Total Cases=%{x}<br>Active=%{y}<br>Deaths=%{marker.size}<extra></extra>\",\"legendgroup\":\"Ladakh\",\"marker\":{\"color\":\"#B6E880\",\"size\":[207],\"sizemode\":\"area\",\"sizeref\":85.221875,\"symbol\":\"circle\"},\"mode\":\"markers\",\"name\":\"Ladakh\",\"orientation\":\"v\",\"showlegend\":true,\"type\":\"scatter\",\"x\":[20500],\"xaxis\":\"x\",\"y\":[55],\"yaxis\":\"y\"},{\"hovertemplate\":\"State/UTs=Lakshadweep<br>Total Cases=%{x}<br>Active=%{y}<br>Deaths=%{marker.size}<extra></extra>\",\"legendgroup\":\"Lakshadweep\",\"marker\":{\"color\":\"#FF97FF\",\"size\":[51],\"sizemode\":\"area\",\"sizeref\":85.221875,\"symbol\":\"circle\"},\"mode\":\"markers\",\"name\":\"Lakshadweep\",\"orientation\":\"v\",\"showlegend\":true,\"type\":\"scatter\",\"x\":[10318],\"xaxis\":\"x\",\"y\":[28],\"yaxis\":\"y\"},{\"hovertemplate\":\"State/UTs=Madhya Pradesh<br>Total Cases=%{x}<br>Active=%{y}<br>Deaths=%{marker.size}<extra></extra>\",\"legendgroup\":\"Madhya Pradesh\",\"marker\":{\"color\":\"#FECB52\",\"size\":[10516],\"sizemode\":\"area\",\"sizeref\":85.221875,\"symbol\":\"circle\"},\"mode\":\"markers\",\"name\":\"Madhya Pradesh\",\"orientation\":\"v\",\"showlegend\":true,\"type\":\"scatter\",\"x\":[792109],\"xaxis\":\"x\",\"y\":[84],\"yaxis\":\"y\"},{\"hovertemplate\":\"State/UTs=Maharashtra<br>Total Cases=%{x}<br>Active=%{y}<br>Deaths=%{marker.size}<extra></extra>\",\"legendgroup\":\"Maharashtra\",\"marker\":{\"color\":\"#636efa\",\"size\":[136355],\"sizemode\":\"area\",\"sizeref\":85.221875,\"symbol\":\"circle\"},\"mode\":\"markers\",\"name\":\"Maharashtra\",\"orientation\":\"v\",\"showlegend\":true,\"type\":\"scatter\",\"x\":[6432649],\"xaxis\":\"x\",\"y\":[53260],\"yaxis\":\"y\"},{\"hovertemplate\":\"State/UTs=Manipur<br>Total Cases=%{x}<br>Active=%{y}<br>Deaths=%{marker.size}<extra></extra>\",\"legendgroup\":\"Manipur\",\"marker\":{\"color\":\"#EF553B\",\"size\":[1759],\"sizemode\":\"area\",\"sizeref\":85.221875,\"symbol\":\"circle\"},\"mode\":\"markers\",\"name\":\"Manipur\",\"orientation\":\"v\",\"showlegend\":true,\"type\":\"scatter\",\"x\":[111598],\"xaxis\":\"x\",\"y\":[3610],\"yaxis\":\"y\"},{\"hovertemplate\":\"State/UTs=Meghalaya<br>Total Cases=%{x}<br>Active=%{y}<br>Deaths=%{marker.size}<extra></extra>\",\"legendgroup\":\"Meghalaya\",\"marker\":{\"color\":\"#00cc96\",\"size\":[1285],\"sizemode\":\"area\",\"sizeref\":85.221875,\"symbol\":\"circle\"},\"mode\":\"markers\",\"name\":\"Meghalaya\",\"orientation\":\"v\",\"showlegend\":true,\"type\":\"scatter\",\"x\":[74232],\"xaxis\":\"x\",\"y\":[2820],\"yaxis\":\"y\"},{\"hovertemplate\":\"State/UTs=Mizoram<br>Total Cases=%{x}<br>Active=%{y}<br>Deaths=%{marker.size}<extra></extra>\",\"legendgroup\":\"Mizoram\",\"marker\":{\"color\":\"#ab63fa\",\"size\":[201],\"sizemode\":\"area\",\"sizeref\":85.221875,\"symbol\":\"circle\"},\"mode\":\"markers\",\"name\":\"Mizoram\",\"orientation\":\"v\",\"showlegend\":true,\"type\":\"scatter\",\"x\":[54057],\"xaxis\":\"x\",\"y\":[6664],\"yaxis\":\"y\"},{\"hovertemplate\":\"State/UTs=Nagaland<br>Total Cases=%{x}<br>Active=%{y}<br>Deaths=%{marker.size}<extra></extra>\",\"legendgroup\":\"Nagaland\",\"marker\":{\"color\":\"#FFA15A\",\"size\":[611],\"sizemode\":\"area\",\"sizeref\":85.221875,\"symbol\":\"circle\"},\"mode\":\"markers\",\"name\":\"Nagaland\",\"orientation\":\"v\",\"showlegend\":true,\"type\":\"scatter\",\"x\":[29669],\"xaxis\":\"x\",\"y\":[888],\"yaxis\":\"y\"},{\"hovertemplate\":\"State/UTs=Odisha<br>Total Cases=%{x}<br>Active=%{y}<br>Deaths=%{marker.size}<extra></extra>\",\"legendgroup\":\"Odisha\",\"marker\":{\"color\":\"#19d3f3\",\"size\":[7493],\"sizemode\":\"area\",\"sizeref\":85.221875,\"symbol\":\"circle\"},\"mode\":\"markers\",\"name\":\"Odisha\",\"orientation\":\"v\",\"showlegend\":true,\"type\":\"scatter\",\"x\":[1002323],\"xaxis\":\"x\",\"y\":[7461],\"yaxis\":\"y\"},{\"hovertemplate\":\"State/UTs=Puducherry<br>Total Cases=%{x}<br>Active=%{y}<br>Deaths=%{marker.size}<extra></extra>\",\"legendgroup\":\"Puducherry\",\"marker\":{\"color\":\"#FF6692\",\"size\":[1809],\"sizemode\":\"area\",\"sizeref\":85.221875,\"symbol\":\"circle\"},\"mode\":\"markers\",\"name\":\"Puducherry\",\"orientation\":\"v\",\"showlegend\":true,\"type\":\"scatter\",\"x\":[123007],\"xaxis\":\"x\",\"y\":[765],\"yaxis\":\"y\"},{\"hovertemplate\":\"State/UTs=Punjab<br>Total Cases=%{x}<br>Active=%{y}<br>Deaths=%{marker.size}<extra></extra>\",\"legendgroup\":\"Punjab\",\"marker\":{\"color\":\"#B6E880\",\"size\":[16355],\"sizemode\":\"area\",\"sizeref\":85.221875,\"symbol\":\"circle\"},\"mode\":\"markers\",\"name\":\"Punjab\",\"orientation\":\"v\",\"showlegend\":true,\"type\":\"scatter\",\"x\":[600342],\"xaxis\":\"x\",\"y\":[423],\"yaxis\":\"y\"},{\"hovertemplate\":\"State/UTs=Rajasthan<br>Total Cases=%{x}<br>Active=%{y}<br>Deaths=%{marker.size}<extra></extra>\",\"legendgroup\":\"Rajasthan\",\"marker\":{\"color\":\"#FF97FF\",\"size\":[8954],\"sizemode\":\"area\",\"sizeref\":85.221875,\"symbol\":\"circle\"},\"mode\":\"markers\",\"name\":\"Rajasthan\",\"orientation\":\"v\",\"showlegend\":true,\"type\":\"scatter\",\"x\":[954040],\"xaxis\":\"x\",\"y\":[128],\"yaxis\":\"y\"},{\"hovertemplate\":\"State/UTs=Sikkim<br>Total Cases=%{x}<br>Active=%{y}<br>Deaths=%{marker.size}<extra></extra>\",\"legendgroup\":\"Sikkim\",\"marker\":{\"color\":\"#FECB52\",\"size\":[367],\"sizemode\":\"area\",\"sizeref\":85.221875,\"symbol\":\"circle\"},\"mode\":\"markers\",\"name\":\"Sikkim\",\"orientation\":\"v\",\"showlegend\":true,\"type\":\"scatter\",\"x\":[29477],\"xaxis\":\"x\",\"y\":[1548],\"yaxis\":\"y\"},{\"hovertemplate\":\"State/UTs=Tamil Nadu<br>Total Cases=%{x}<br>Active=%{y}<br>Deaths=%{marker.size}<extra></extra>\",\"legendgroup\":\"Tamil Nadu\",\"marker\":{\"color\":\"#636efa\",\"size\":[34761],\"sizemode\":\"area\",\"sizeref\":85.221875,\"symbol\":\"circle\"},\"mode\":\"markers\",\"name\":\"Tamil Nadu\",\"orientation\":\"v\",\"showlegend\":true,\"type\":\"scatter\",\"x\":[2604074],\"xaxis\":\"x\",\"y\":[18603],\"yaxis\":\"y\"},{\"hovertemplate\":\"State/UTs=Telengana<br>Total Cases=%{x}<br>Active=%{y}<br>Deaths=%{marker.size}<extra></extra>\",\"legendgroup\":\"Telengana\",\"marker\":{\"color\":\"#EF553B\",\"size\":[3862],\"sizemode\":\"area\",\"sizeref\":85.221875,\"symbol\":\"circle\"},\"mode\":\"markers\",\"name\":\"Telengana\",\"orientation\":\"v\",\"showlegend\":true,\"type\":\"scatter\",\"x\":[655732],\"xaxis\":\"x\",\"y\":[6276],\"yaxis\":\"y\"},{\"hovertemplate\":\"State/UTs=Tripura<br>Total Cases=%{x}<br>Active=%{y}<br>Deaths=%{marker.size}<extra></extra>\",\"legendgroup\":\"Tripura\",\"marker\":{\"color\":\"#00cc96\",\"size\":[791],\"sizemode\":\"area\",\"sizeref\":85.221875,\"symbol\":\"circle\"},\"mode\":\"markers\",\"name\":\"Tripura\",\"orientation\":\"v\",\"showlegend\":true,\"type\":\"scatter\",\"x\":[82384],\"xaxis\":\"x\",\"y\":[1113],\"yaxis\":\"y\"},{\"hovertemplate\":\"State/UTs=Uttar Pradesh<br>Total Cases=%{x}<br>Active=%{y}<br>Deaths=%{marker.size}<extra></extra>\",\"legendgroup\":\"Uttar Pradesh\",\"marker\":{\"color\":\"#ab63fa\",\"size\":[22794],\"sizemode\":\"area\",\"sizeref\":85.221875,\"symbol\":\"circle\"},\"mode\":\"markers\",\"name\":\"Uttar Pradesh\",\"orientation\":\"v\",\"showlegend\":true,\"type\":\"scatter\",\"x\":[1709152],\"xaxis\":\"x\",\"y\":[352],\"yaxis\":\"y\"},{\"hovertemplate\":\"State/UTs=Uttarakhand<br>Total Cases=%{x}<br>Active=%{y}<br>Deaths=%{marker.size}<extra></extra>\",\"legendgroup\":\"Uttarakhand\",\"marker\":{\"color\":\"#FFA15A\",\"size\":[7377],\"sizemode\":\"area\",\"sizeref\":85.221875,\"symbol\":\"circle\"},\"mode\":\"markers\",\"name\":\"Uttarakhand\",\"orientation\":\"v\",\"showlegend\":true,\"type\":\"scatter\",\"x\":[342786],\"xaxis\":\"x\",\"y\":[310],\"yaxis\":\"y\"},{\"hovertemplate\":\"State/UTs=West Bengal<br>Total Cases=%{x}<br>Active=%{y}<br>Deaths=%{marker.size}<extra></extra>\",\"legendgroup\":\"West Bengal\",\"marker\":{\"color\":\"#19d3f3\",\"size\":[18383],\"sizemode\":\"area\",\"sizeref\":85.221875,\"symbol\":\"circle\"},\"mode\":\"markers\",\"name\":\"West Bengal\",\"orientation\":\"v\",\"showlegend\":true,\"type\":\"scatter\",\"x\":[1544109],\"xaxis\":\"x\",\"y\":[9217],\"yaxis\":\"y\"}],                        {\"legend\":{\"itemsizing\":\"constant\",\"title\":{\"text\":\"State/UTs\"},\"tracegroupgap\":0},\"margin\":{\"t\":60},\"template\":{\"data\":{\"bar\":[{\"error_x\":{\"color\":\"#2a3f5f\"},\"error_y\":{\"color\":\"#2a3f5f\"},\"marker\":{\"line\":{\"color\":\"#E5ECF6\",\"width\":0.5},\"pattern\":{\"fillmode\":\"overlay\",\"size\":10,\"solidity\":0.2}},\"type\":\"bar\"}],\"barpolar\":[{\"marker\":{\"line\":{\"color\":\"#E5ECF6\",\"width\":0.5},\"pattern\":{\"fillmode\":\"overlay\",\"size\":10,\"solidity\":0.2}},\"type\":\"barpolar\"}],\"carpet\":[{\"aaxis\":{\"endlinecolor\":\"#2a3f5f\",\"gridcolor\":\"white\",\"linecolor\":\"white\",\"minorgridcolor\":\"white\",\"startlinecolor\":\"#2a3f5f\"},\"baxis\":{\"endlinecolor\":\"#2a3f5f\",\"gridcolor\":\"white\",\"linecolor\":\"white\",\"minorgridcolor\":\"white\",\"startlinecolor\":\"#2a3f5f\"},\"type\":\"carpet\"}],\"choropleth\":[{\"colorbar\":{\"outlinewidth\":0,\"ticks\":\"\"},\"type\":\"choropleth\"}],\"contour\":[{\"colorbar\":{\"outlinewidth\":0,\"ticks\":\"\"},\"colorscale\":[[0.0,\"#0d0887\"],[0.1111111111111111,\"#46039f\"],[0.2222222222222222,\"#7201a8\"],[0.3333333333333333,\"#9c179e\"],[0.4444444444444444,\"#bd3786\"],[0.5555555555555556,\"#d8576b\"],[0.6666666666666666,\"#ed7953\"],[0.7777777777777778,\"#fb9f3a\"],[0.8888888888888888,\"#fdca26\"],[1.0,\"#f0f921\"]],\"type\":\"contour\"}],\"contourcarpet\":[{\"colorbar\":{\"outlinewidth\":0,\"ticks\":\"\"},\"type\":\"contourcarpet\"}],\"heatmap\":[{\"colorbar\":{\"outlinewidth\":0,\"ticks\":\"\"},\"colorscale\":[[0.0,\"#0d0887\"],[0.1111111111111111,\"#46039f\"],[0.2222222222222222,\"#7201a8\"],[0.3333333333333333,\"#9c179e\"],[0.4444444444444444,\"#bd3786\"],[0.5555555555555556,\"#d8576b\"],[0.6666666666666666,\"#ed7953\"],[0.7777777777777778,\"#fb9f3a\"],[0.8888888888888888,\"#fdca26\"],[1.0,\"#f0f921\"]],\"type\":\"heatmap\"}],\"heatmapgl\":[{\"colorbar\":{\"outlinewidth\":0,\"ticks\":\"\"},\"colorscale\":[[0.0,\"#0d0887\"],[0.1111111111111111,\"#46039f\"],[0.2222222222222222,\"#7201a8\"],[0.3333333333333333,\"#9c179e\"],[0.4444444444444444,\"#bd3786\"],[0.5555555555555556,\"#d8576b\"],[0.6666666666666666,\"#ed7953\"],[0.7777777777777778,\"#fb9f3a\"],[0.8888888888888888,\"#fdca26\"],[1.0,\"#f0f921\"]],\"type\":\"heatmapgl\"}],\"histogram\":[{\"marker\":{\"pattern\":{\"fillmode\":\"overlay\",\"size\":10,\"solidity\":0.2}},\"type\":\"histogram\"}],\"histogram2d\":[{\"colorbar\":{\"outlinewidth\":0,\"ticks\":\"\"},\"colorscale\":[[0.0,\"#0d0887\"],[0.1111111111111111,\"#46039f\"],[0.2222222222222222,\"#7201a8\"],[0.3333333333333333,\"#9c179e\"],[0.4444444444444444,\"#bd3786\"],[0.5555555555555556,\"#d8576b\"],[0.6666666666666666,\"#ed7953\"],[0.7777777777777778,\"#fb9f3a\"],[0.8888888888888888,\"#fdca26\"],[1.0,\"#f0f921\"]],\"type\":\"histogram2d\"}],\"histogram2dcontour\":[{\"colorbar\":{\"outlinewidth\":0,\"ticks\":\"\"},\"colorscale\":[[0.0,\"#0d0887\"],[0.1111111111111111,\"#46039f\"],[0.2222222222222222,\"#7201a8\"],[0.3333333333333333,\"#9c179e\"],[0.4444444444444444,\"#bd3786\"],[0.5555555555555556,\"#d8576b\"],[0.6666666666666666,\"#ed7953\"],[0.7777777777777778,\"#fb9f3a\"],[0.8888888888888888,\"#fdca26\"],[1.0,\"#f0f921\"]],\"type\":\"histogram2dcontour\"}],\"mesh3d\":[{\"colorbar\":{\"outlinewidth\":0,\"ticks\":\"\"},\"type\":\"mesh3d\"}],\"parcoords\":[{\"line\":{\"colorbar\":{\"outlinewidth\":0,\"ticks\":\"\"}},\"type\":\"parcoords\"}],\"pie\":[{\"automargin\":true,\"type\":\"pie\"}],\"scatter\":[{\"marker\":{\"colorbar\":{\"outlinewidth\":0,\"ticks\":\"\"}},\"type\":\"scatter\"}],\"scatter3d\":[{\"line\":{\"colorbar\":{\"outlinewidth\":0,\"ticks\":\"\"}},\"marker\":{\"colorbar\":{\"outlinewidth\":0,\"ticks\":\"\"}},\"type\":\"scatter3d\"}],\"scattercarpet\":[{\"marker\":{\"colorbar\":{\"outlinewidth\":0,\"ticks\":\"\"}},\"type\":\"scattercarpet\"}],\"scattergeo\":[{\"marker\":{\"colorbar\":{\"outlinewidth\":0,\"ticks\":\"\"}},\"type\":\"scattergeo\"}],\"scattergl\":[{\"marker\":{\"colorbar\":{\"outlinewidth\":0,\"ticks\":\"\"}},\"type\":\"scattergl\"}],\"scattermapbox\":[{\"marker\":{\"colorbar\":{\"outlinewidth\":0,\"ticks\":\"\"}},\"type\":\"scattermapbox\"}],\"scatterpolar\":[{\"marker\":{\"colorbar\":{\"outlinewidth\":0,\"ticks\":\"\"}},\"type\":\"scatterpolar\"}],\"scatterpolargl\":[{\"marker\":{\"colorbar\":{\"outlinewidth\":0,\"ticks\":\"\"}},\"type\":\"scatterpolargl\"}],\"scatterternary\":[{\"marker\":{\"colorbar\":{\"outlinewidth\":0,\"ticks\":\"\"}},\"type\":\"scatterternary\"}],\"surface\":[{\"colorbar\":{\"outlinewidth\":0,\"ticks\":\"\"},\"colorscale\":[[0.0,\"#0d0887\"],[0.1111111111111111,\"#46039f\"],[0.2222222222222222,\"#7201a8\"],[0.3333333333333333,\"#9c179e\"],[0.4444444444444444,\"#bd3786\"],[0.5555555555555556,\"#d8576b\"],[0.6666666666666666,\"#ed7953\"],[0.7777777777777778,\"#fb9f3a\"],[0.8888888888888888,\"#fdca26\"],[1.0,\"#f0f921\"]],\"type\":\"surface\"}],\"table\":[{\"cells\":{\"fill\":{\"color\":\"#EBF0F8\"},\"line\":{\"color\":\"white\"}},\"header\":{\"fill\":{\"color\":\"#C8D4E3\"},\"line\":{\"color\":\"white\"}},\"type\":\"table\"}]},\"layout\":{\"annotationdefaults\":{\"arrowcolor\":\"#2a3f5f\",\"arrowhead\":0,\"arrowwidth\":1},\"autotypenumbers\":\"strict\",\"coloraxis\":{\"colorbar\":{\"outlinewidth\":0,\"ticks\":\"\"}},\"colorscale\":{\"diverging\":[[0,\"#8e0152\"],[0.1,\"#c51b7d\"],[0.2,\"#de77ae\"],[0.3,\"#f1b6da\"],[0.4,\"#fde0ef\"],[0.5,\"#f7f7f7\"],[0.6,\"#e6f5d0\"],[0.7,\"#b8e186\"],[0.8,\"#7fbc41\"],[0.9,\"#4d9221\"],[1,\"#276419\"]],\"sequential\":[[0.0,\"#0d0887\"],[0.1111111111111111,\"#46039f\"],[0.2222222222222222,\"#7201a8\"],[0.3333333333333333,\"#9c179e\"],[0.4444444444444444,\"#bd3786\"],[0.5555555555555556,\"#d8576b\"],[0.6666666666666666,\"#ed7953\"],[0.7777777777777778,\"#fb9f3a\"],[0.8888888888888888,\"#fdca26\"],[1.0,\"#f0f921\"]],\"sequentialminus\":[[0.0,\"#0d0887\"],[0.1111111111111111,\"#46039f\"],[0.2222222222222222,\"#7201a8\"],[0.3333333333333333,\"#9c179e\"],[0.4444444444444444,\"#bd3786\"],[0.5555555555555556,\"#d8576b\"],[0.6666666666666666,\"#ed7953\"],[0.7777777777777778,\"#fb9f3a\"],[0.8888888888888888,\"#fdca26\"],[1.0,\"#f0f921\"]]},\"colorway\":[\"#636efa\",\"#EF553B\",\"#00cc96\",\"#ab63fa\",\"#FFA15A\",\"#19d3f3\",\"#FF6692\",\"#B6E880\",\"#FF97FF\",\"#FECB52\"],\"font\":{\"color\":\"#2a3f5f\"},\"geo\":{\"bgcolor\":\"white\",\"lakecolor\":\"white\",\"landcolor\":\"#E5ECF6\",\"showlakes\":true,\"showland\":true,\"subunitcolor\":\"white\"},\"hoverlabel\":{\"align\":\"left\"},\"hovermode\":\"closest\",\"mapbox\":{\"style\":\"light\"},\"paper_bgcolor\":\"white\",\"plot_bgcolor\":\"#E5ECF6\",\"polar\":{\"angularaxis\":{\"gridcolor\":\"white\",\"linecolor\":\"white\",\"ticks\":\"\"},\"bgcolor\":\"#E5ECF6\",\"radialaxis\":{\"gridcolor\":\"white\",\"linecolor\":\"white\",\"ticks\":\"\"}},\"scene\":{\"xaxis\":{\"backgroundcolor\":\"#E5ECF6\",\"gridcolor\":\"white\",\"gridwidth\":2,\"linecolor\":\"white\",\"showbackground\":true,\"ticks\":\"\",\"zerolinecolor\":\"white\"},\"yaxis\":{\"backgroundcolor\":\"#E5ECF6\",\"gridcolor\":\"white\",\"gridwidth\":2,\"linecolor\":\"white\",\"showbackground\":true,\"ticks\":\"\",\"zerolinecolor\":\"white\"},\"zaxis\":{\"backgroundcolor\":\"#E5ECF6\",\"gridcolor\":\"white\",\"gridwidth\":2,\"linecolor\":\"white\",\"showbackground\":true,\"ticks\":\"\",\"zerolinecolor\":\"white\"}},\"shapedefaults\":{\"line\":{\"color\":\"#2a3f5f\"}},\"ternary\":{\"aaxis\":{\"gridcolor\":\"white\",\"linecolor\":\"white\",\"ticks\":\"\"},\"baxis\":{\"gridcolor\":\"white\",\"linecolor\":\"white\",\"ticks\":\"\"},\"bgcolor\":\"#E5ECF6\",\"caxis\":{\"gridcolor\":\"white\",\"linecolor\":\"white\",\"ticks\":\"\"}},\"title\":{\"x\":0.05},\"xaxis\":{\"automargin\":true,\"gridcolor\":\"white\",\"linecolor\":\"white\",\"ticks\":\"\",\"title\":{\"standoff\":15},\"zerolinecolor\":\"white\",\"zerolinewidth\":2},\"yaxis\":{\"automargin\":true,\"gridcolor\":\"white\",\"linecolor\":\"white\",\"ticks\":\"\",\"title\":{\"standoff\":15},\"zerolinecolor\":\"white\",\"zerolinewidth\":2}}},\"xaxis\":{\"anchor\":\"y\",\"domain\":[0.0,1.0],\"title\":{\"text\":\"Total Cases\"}},\"yaxis\":{\"anchor\":\"x\",\"domain\":[0.0,1.0],\"title\":{\"text\":\"Active\"}}},                        {\"responsive\": true}                    ).then(function(){\n",
       "                            \n",
       "var gd = document.getElementById('fa166ea2-70d4-49ae-871e-9d20b5d311b5');\n",
       "var x = new MutationObserver(function (mutations, observer) {{\n",
       "        var display = window.getComputedStyle(gd).display;\n",
       "        if (!display || display === 'none') {{\n",
       "            console.log([gd, 'removed!']);\n",
       "            Plotly.purge(gd);\n",
       "            observer.disconnect();\n",
       "        }}\n",
       "}});\n",
       "\n",
       "// Listen for the removal of the full notebook cells\n",
       "var notebookContainer = gd.closest('#notebook-container');\n",
       "if (notebookContainer) {{\n",
       "    x.observe(notebookContainer, {childList: true});\n",
       "}}\n",
       "\n",
       "// Listen for the clearing of the current output cell\n",
       "var outputEl = gd.closest('.output');\n",
       "if (outputEl) {{\n",
       "    x.observe(outputEl, {childList: true});\n",
       "}}\n",
       "\n",
       "                        })                };                });            </script>        </div>"
      ]
     },
     "metadata": {},
     "output_type": "display_data"
    }
   ],
   "source": [
    "fig = px.scatter(df, x=\"Total Cases\", y=\"Active\", size=\"Deaths\", color='State/UTs',size_max = 40)\n",
    "fig.show()"
   ]
  },
  {
   "cell_type": "code",
   "execution_count": null,
   "metadata": {},
   "outputs": [],
   "source": []
  }
 ],
 "metadata": {
  "kernelspec": {
   "display_name": "Python 3",
   "language": "python",
   "name": "python3"
  },
  "language_info": {
   "codemirror_mode": {
    "name": "ipython",
    "version": 3
   },
   "file_extension": ".py",
   "mimetype": "text/x-python",
   "name": "python",
   "nbconvert_exporter": "python",
   "pygments_lexer": "ipython3",
   "version": "3.8.8"
  }
 },
 "nbformat": 4,
 "nbformat_minor": 4
}
